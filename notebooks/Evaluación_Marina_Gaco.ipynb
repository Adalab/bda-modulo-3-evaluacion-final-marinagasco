{
 "cells": [
  {
   "cell_type": "markdown",
   "metadata": {},
   "source": [
    "# Ejercicio de evaluación final: "
   ]
  },
  {
   "cell_type": "markdown",
   "metadata": {},
   "source": [
    "# FASE 1:\n",
    "\n",
    "## EXPLORACIÓN INICIAL: \n",
    "\n",
    "    - Realiza una exploración inicial de los datos para identificar posibles problemas, como valores nulos, atípicos o datos faltantes en las columnas relevantes. \n",
    "\n",
    "    - Utiliza funciones de Pandas para obtener información sobre la esctructura de los datos, la presencia de valores nulos y estadísticas básicas de las columnas involucradas. \n",
    "\n",
    "    - Une los dos conjuntos de datos de la formas más eficiente. "
   ]
  },
  {
   "cell_type": "markdown",
   "metadata": {},
   "source": [
    "### PASO 0: \n",
    "\n",
    "#### Importamos las biblitecas fundamentales para el tratamiento de datos en Python diseñadas para facilitar el análisis de datos y el cálculo numérico:\n"
   ]
  },
  {
   "cell_type": "code",
   "execution_count": 1,
   "metadata": {},
   "outputs": [],
   "source": [
    "\n",
    "import pandas as pd\n",
    "import numpy as np #Numerical Python\n",
    "\n",
    "#Configuramos nuestro Jupyter para poder visualizar todas las columnas de nuestros dataframes: \n",
    "\n",
    "pd.set_option('display.max_columns', None) "
   ]
  },
  {
   "cell_type": "markdown",
   "metadata": {},
   "source": [
    "## Empezamos el EDA (Exploratory Data Analysis) o Análisis exploratorio de los datos: \n",
    "\n",
    "### PASO 1: \n",
    "\n",
    "#### Comprendemos los datos: cargamos los datos desde su fuente (en este caso csv) y los guardamos en 2 dataframes distintos:"
   ]
  },
  {
   "cell_type": "code",
   "execution_count": 2,
   "metadata": {},
   "outputs": [],
   "source": [
    "#Añadimos index_col = 0 para que se tome la primera columna como índice (en este caso el número identificativo). \n",
    "\n",
    "df_activity = pd.read_csv (\"../data/Customer Flight Activity.csv\", index_col= 0)\n",
    "\n",
    "df_loyalty = pd.read_csv (\"../data/Customer Loyalty History.csv\", index_col= 0)"
   ]
  },
  {
   "cell_type": "markdown",
   "metadata": {},
   "source": [
    "### PASO 2: \n",
    "\n",
    "#### Inspeccionamos la estructura de los datos de ambos dataframes: \n"
   ]
  },
  {
   "cell_type": "code",
   "execution_count": 3,
   "metadata": {},
   "outputs": [
    {
     "data": {
      "text/html": [
       "<div>\n",
       "<style scoped>\n",
       "    .dataframe tbody tr th:only-of-type {\n",
       "        vertical-align: middle;\n",
       "    }\n",
       "\n",
       "    .dataframe tbody tr th {\n",
       "        vertical-align: top;\n",
       "    }\n",
       "\n",
       "    .dataframe thead th {\n",
       "        text-align: right;\n",
       "    }\n",
       "</style>\n",
       "<table border=\"1\" class=\"dataframe\">\n",
       "  <thead>\n",
       "    <tr style=\"text-align: right;\">\n",
       "      <th></th>\n",
       "      <th>Year</th>\n",
       "      <th>Month</th>\n",
       "      <th>Flights Booked</th>\n",
       "      <th>Flights with Companions</th>\n",
       "      <th>Total Flights</th>\n",
       "      <th>Distance</th>\n",
       "      <th>Points Accumulated</th>\n",
       "      <th>Points Redeemed</th>\n",
       "      <th>Dollar Cost Points Redeemed</th>\n",
       "    </tr>\n",
       "    <tr>\n",
       "      <th>Loyalty Number</th>\n",
       "      <th></th>\n",
       "      <th></th>\n",
       "      <th></th>\n",
       "      <th></th>\n",
       "      <th></th>\n",
       "      <th></th>\n",
       "      <th></th>\n",
       "      <th></th>\n",
       "      <th></th>\n",
       "    </tr>\n",
       "  </thead>\n",
       "  <tbody>\n",
       "    <tr>\n",
       "      <th>100018</th>\n",
       "      <td>2017</td>\n",
       "      <td>1</td>\n",
       "      <td>3</td>\n",
       "      <td>0</td>\n",
       "      <td>3</td>\n",
       "      <td>1521</td>\n",
       "      <td>152.0</td>\n",
       "      <td>0</td>\n",
       "      <td>0</td>\n",
       "    </tr>\n",
       "    <tr>\n",
       "      <th>100102</th>\n",
       "      <td>2017</td>\n",
       "      <td>1</td>\n",
       "      <td>10</td>\n",
       "      <td>4</td>\n",
       "      <td>14</td>\n",
       "      <td>2030</td>\n",
       "      <td>203.0</td>\n",
       "      <td>0</td>\n",
       "      <td>0</td>\n",
       "    </tr>\n",
       "    <tr>\n",
       "      <th>100140</th>\n",
       "      <td>2017</td>\n",
       "      <td>1</td>\n",
       "      <td>6</td>\n",
       "      <td>0</td>\n",
       "      <td>6</td>\n",
       "      <td>1200</td>\n",
       "      <td>120.0</td>\n",
       "      <td>0</td>\n",
       "      <td>0</td>\n",
       "    </tr>\n",
       "    <tr>\n",
       "      <th>100214</th>\n",
       "      <td>2017</td>\n",
       "      <td>1</td>\n",
       "      <td>0</td>\n",
       "      <td>0</td>\n",
       "      <td>0</td>\n",
       "      <td>0</td>\n",
       "      <td>0.0</td>\n",
       "      <td>0</td>\n",
       "      <td>0</td>\n",
       "    </tr>\n",
       "    <tr>\n",
       "      <th>100272</th>\n",
       "      <td>2017</td>\n",
       "      <td>1</td>\n",
       "      <td>0</td>\n",
       "      <td>0</td>\n",
       "      <td>0</td>\n",
       "      <td>0</td>\n",
       "      <td>0.0</td>\n",
       "      <td>0</td>\n",
       "      <td>0</td>\n",
       "    </tr>\n",
       "  </tbody>\n",
       "</table>\n",
       "</div>"
      ],
      "text/plain": [
       "                Year  Month  Flights Booked  Flights with Companions  \\\n",
       "Loyalty Number                                                         \n",
       "100018          2017      1               3                        0   \n",
       "100102          2017      1              10                        4   \n",
       "100140          2017      1               6                        0   \n",
       "100214          2017      1               0                        0   \n",
       "100272          2017      1               0                        0   \n",
       "\n",
       "                Total Flights  Distance  Points Accumulated  Points Redeemed  \\\n",
       "Loyalty Number                                                                 \n",
       "100018                      3      1521               152.0                0   \n",
       "100102                     14      2030               203.0                0   \n",
       "100140                      6      1200               120.0                0   \n",
       "100214                      0         0                 0.0                0   \n",
       "100272                      0         0                 0.0                0   \n",
       "\n",
       "                Dollar Cost Points Redeemed  \n",
       "Loyalty Number                               \n",
       "100018                                    0  \n",
       "100102                                    0  \n",
       "100140                                    0  \n",
       "100214                                    0  \n",
       "100272                                    0  "
      ]
     },
     "execution_count": 3,
     "metadata": {},
     "output_type": "execute_result"
    }
   ],
   "source": [
    "#Vemos las primeras filas con head().\n",
    "\n",
    "df_activity.head()"
   ]
  },
  {
   "cell_type": "code",
   "execution_count": 4,
   "metadata": {},
   "outputs": [
    {
     "data": {
      "text/html": [
       "<div>\n",
       "<style scoped>\n",
       "    .dataframe tbody tr th:only-of-type {\n",
       "        vertical-align: middle;\n",
       "    }\n",
       "\n",
       "    .dataframe tbody tr th {\n",
       "        vertical-align: top;\n",
       "    }\n",
       "\n",
       "    .dataframe thead th {\n",
       "        text-align: right;\n",
       "    }\n",
       "</style>\n",
       "<table border=\"1\" class=\"dataframe\">\n",
       "  <thead>\n",
       "    <tr style=\"text-align: right;\">\n",
       "      <th></th>\n",
       "      <th>Country</th>\n",
       "      <th>Province</th>\n",
       "      <th>City</th>\n",
       "      <th>Postal Code</th>\n",
       "      <th>Gender</th>\n",
       "      <th>Education</th>\n",
       "      <th>Salary</th>\n",
       "      <th>Marital Status</th>\n",
       "      <th>Loyalty Card</th>\n",
       "      <th>CLV</th>\n",
       "      <th>Enrollment Type</th>\n",
       "      <th>Enrollment Year</th>\n",
       "      <th>Enrollment Month</th>\n",
       "      <th>Cancellation Year</th>\n",
       "      <th>Cancellation Month</th>\n",
       "    </tr>\n",
       "    <tr>\n",
       "      <th>Loyalty Number</th>\n",
       "      <th></th>\n",
       "      <th></th>\n",
       "      <th></th>\n",
       "      <th></th>\n",
       "      <th></th>\n",
       "      <th></th>\n",
       "      <th></th>\n",
       "      <th></th>\n",
       "      <th></th>\n",
       "      <th></th>\n",
       "      <th></th>\n",
       "      <th></th>\n",
       "      <th></th>\n",
       "      <th></th>\n",
       "      <th></th>\n",
       "    </tr>\n",
       "  </thead>\n",
       "  <tbody>\n",
       "    <tr>\n",
       "      <th>480934</th>\n",
       "      <td>Canada</td>\n",
       "      <td>Ontario</td>\n",
       "      <td>Toronto</td>\n",
       "      <td>M2Z 4K1</td>\n",
       "      <td>Female</td>\n",
       "      <td>Bachelor</td>\n",
       "      <td>83236.0</td>\n",
       "      <td>Married</td>\n",
       "      <td>Star</td>\n",
       "      <td>3839.14</td>\n",
       "      <td>Standard</td>\n",
       "      <td>2016</td>\n",
       "      <td>2</td>\n",
       "      <td>NaN</td>\n",
       "      <td>NaN</td>\n",
       "    </tr>\n",
       "    <tr>\n",
       "      <th>549612</th>\n",
       "      <td>Canada</td>\n",
       "      <td>Alberta</td>\n",
       "      <td>Edmonton</td>\n",
       "      <td>T3G 6Y6</td>\n",
       "      <td>Male</td>\n",
       "      <td>College</td>\n",
       "      <td>NaN</td>\n",
       "      <td>Divorced</td>\n",
       "      <td>Star</td>\n",
       "      <td>3839.61</td>\n",
       "      <td>Standard</td>\n",
       "      <td>2016</td>\n",
       "      <td>3</td>\n",
       "      <td>NaN</td>\n",
       "      <td>NaN</td>\n",
       "    </tr>\n",
       "    <tr>\n",
       "      <th>429460</th>\n",
       "      <td>Canada</td>\n",
       "      <td>British Columbia</td>\n",
       "      <td>Vancouver</td>\n",
       "      <td>V6E 3D9</td>\n",
       "      <td>Male</td>\n",
       "      <td>College</td>\n",
       "      <td>NaN</td>\n",
       "      <td>Single</td>\n",
       "      <td>Star</td>\n",
       "      <td>3839.75</td>\n",
       "      <td>Standard</td>\n",
       "      <td>2014</td>\n",
       "      <td>7</td>\n",
       "      <td>2018.0</td>\n",
       "      <td>1.0</td>\n",
       "    </tr>\n",
       "    <tr>\n",
       "      <th>608370</th>\n",
       "      <td>Canada</td>\n",
       "      <td>Ontario</td>\n",
       "      <td>Toronto</td>\n",
       "      <td>P1W 1K4</td>\n",
       "      <td>Male</td>\n",
       "      <td>College</td>\n",
       "      <td>NaN</td>\n",
       "      <td>Single</td>\n",
       "      <td>Star</td>\n",
       "      <td>3839.75</td>\n",
       "      <td>Standard</td>\n",
       "      <td>2013</td>\n",
       "      <td>2</td>\n",
       "      <td>NaN</td>\n",
       "      <td>NaN</td>\n",
       "    </tr>\n",
       "    <tr>\n",
       "      <th>530508</th>\n",
       "      <td>Canada</td>\n",
       "      <td>Quebec</td>\n",
       "      <td>Hull</td>\n",
       "      <td>J8Y 3Z5</td>\n",
       "      <td>Male</td>\n",
       "      <td>Bachelor</td>\n",
       "      <td>103495.0</td>\n",
       "      <td>Married</td>\n",
       "      <td>Star</td>\n",
       "      <td>3842.79</td>\n",
       "      <td>Standard</td>\n",
       "      <td>2014</td>\n",
       "      <td>10</td>\n",
       "      <td>NaN</td>\n",
       "      <td>NaN</td>\n",
       "    </tr>\n",
       "  </tbody>\n",
       "</table>\n",
       "</div>"
      ],
      "text/plain": [
       "               Country          Province       City Postal Code  Gender  \\\n",
       "Loyalty Number                                                            \n",
       "480934          Canada           Ontario    Toronto     M2Z 4K1  Female   \n",
       "549612          Canada           Alberta   Edmonton     T3G 6Y6    Male   \n",
       "429460          Canada  British Columbia  Vancouver     V6E 3D9    Male   \n",
       "608370          Canada           Ontario    Toronto     P1W 1K4    Male   \n",
       "530508          Canada            Quebec       Hull     J8Y 3Z5    Male   \n",
       "\n",
       "               Education    Salary Marital Status Loyalty Card      CLV  \\\n",
       "Loyalty Number                                                            \n",
       "480934          Bachelor   83236.0        Married         Star  3839.14   \n",
       "549612           College       NaN       Divorced         Star  3839.61   \n",
       "429460           College       NaN         Single         Star  3839.75   \n",
       "608370           College       NaN         Single         Star  3839.75   \n",
       "530508          Bachelor  103495.0        Married         Star  3842.79   \n",
       "\n",
       "               Enrollment Type  Enrollment Year  Enrollment Month  \\\n",
       "Loyalty Number                                                      \n",
       "480934                Standard             2016                 2   \n",
       "549612                Standard             2016                 3   \n",
       "429460                Standard             2014                 7   \n",
       "608370                Standard             2013                 2   \n",
       "530508                Standard             2014                10   \n",
       "\n",
       "                Cancellation Year  Cancellation Month  \n",
       "Loyalty Number                                         \n",
       "480934                        NaN                 NaN  \n",
       "549612                        NaN                 NaN  \n",
       "429460                     2018.0                 1.0  \n",
       "608370                        NaN                 NaN  \n",
       "530508                        NaN                 NaN  "
      ]
     },
     "execution_count": 4,
     "metadata": {},
     "output_type": "execute_result"
    }
   ],
   "source": [
    "df_loyalty.head()"
   ]
  },
  {
   "cell_type": "code",
   "execution_count": 5,
   "metadata": {},
   "outputs": [
    {
     "data": {
      "text/plain": [
       "Index(['Year', 'Month', 'Flights Booked', 'Flights with Companions',\n",
       "       'Total Flights', 'Distance', 'Points Accumulated', 'Points Redeemed',\n",
       "       'Dollar Cost Points Redeemed'],\n",
       "      dtype='object')"
      ]
     },
     "execution_count": 5,
     "metadata": {},
     "output_type": "execute_result"
    }
   ],
   "source": [
    "# Hacemos un zoom en las columnas para verlas todas a la vez y tenerlas controladas: \n",
    "\n",
    "df_activity.columns"
   ]
  },
  {
   "cell_type": "code",
   "execution_count": 6,
   "metadata": {},
   "outputs": [
    {
     "data": {
      "text/plain": [
       "Index(['Country', 'Province', 'City', 'Postal Code', 'Gender', 'Education',\n",
       "       'Salary', 'Marital Status', 'Loyalty Card', 'CLV', 'Enrollment Type',\n",
       "       'Enrollment Year', 'Enrollment Month', 'Cancellation Year',\n",
       "       'Cancellation Month'],\n",
       "      dtype='object')"
      ]
     },
     "execution_count": 6,
     "metadata": {},
     "output_type": "execute_result"
    }
   ],
   "source": [
    "df_loyalty.columns"
   ]
  },
  {
   "cell_type": "code",
   "execution_count": 7,
   "metadata": {},
   "outputs": [
    {
     "data": {
      "text/plain": [
       "(405624, 9)"
      ]
     },
     "execution_count": 7,
     "metadata": {},
     "output_type": "execute_result"
    }
   ],
   "source": [
    "# Ahora que sabemos lo primero que aparece en los df y las columnas que tenemos, queremos saber cuántas filas, cuál es la estructura con un shape. \n",
    "df_activity.shape"
   ]
  },
  {
   "cell_type": "code",
   "execution_count": 8,
   "metadata": {},
   "outputs": [
    {
     "data": {
      "text/plain": [
       "(16737, 15)"
      ]
     },
     "execution_count": 8,
     "metadata": {},
     "output_type": "execute_result"
    }
   ],
   "source": [
    "df_loyalty.shape"
   ]
  },
  {
   "cell_type": "code",
   "execution_count": 9,
   "metadata": {},
   "outputs": [
    {
     "data": {
      "text/html": [
       "<div>\n",
       "<style scoped>\n",
       "    .dataframe tbody tr th:only-of-type {\n",
       "        vertical-align: middle;\n",
       "    }\n",
       "\n",
       "    .dataframe tbody tr th {\n",
       "        vertical-align: top;\n",
       "    }\n",
       "\n",
       "    .dataframe thead th {\n",
       "        text-align: right;\n",
       "    }\n",
       "</style>\n",
       "<table border=\"1\" class=\"dataframe\">\n",
       "  <thead>\n",
       "    <tr style=\"text-align: right;\">\n",
       "      <th></th>\n",
       "      <th>Year</th>\n",
       "      <th>Month</th>\n",
       "      <th>Flights Booked</th>\n",
       "      <th>Flights with Companions</th>\n",
       "      <th>Total Flights</th>\n",
       "      <th>Distance</th>\n",
       "      <th>Points Accumulated</th>\n",
       "      <th>Points Redeemed</th>\n",
       "      <th>Dollar Cost Points Redeemed</th>\n",
       "    </tr>\n",
       "    <tr>\n",
       "      <th>Loyalty Number</th>\n",
       "      <th></th>\n",
       "      <th></th>\n",
       "      <th></th>\n",
       "      <th></th>\n",
       "      <th></th>\n",
       "      <th></th>\n",
       "      <th></th>\n",
       "      <th></th>\n",
       "      <th></th>\n",
       "    </tr>\n",
       "  </thead>\n",
       "  <tbody>\n",
       "    <tr>\n",
       "      <th>999902</th>\n",
       "      <td>2018</td>\n",
       "      <td>12</td>\n",
       "      <td>0</td>\n",
       "      <td>0</td>\n",
       "      <td>0</td>\n",
       "      <td>0</td>\n",
       "      <td>0.0</td>\n",
       "      <td>0</td>\n",
       "      <td>0</td>\n",
       "    </tr>\n",
       "    <tr>\n",
       "      <th>999911</th>\n",
       "      <td>2018</td>\n",
       "      <td>12</td>\n",
       "      <td>0</td>\n",
       "      <td>0</td>\n",
       "      <td>0</td>\n",
       "      <td>0</td>\n",
       "      <td>0.0</td>\n",
       "      <td>0</td>\n",
       "      <td>0</td>\n",
       "    </tr>\n",
       "    <tr>\n",
       "      <th>999940</th>\n",
       "      <td>2018</td>\n",
       "      <td>12</td>\n",
       "      <td>3</td>\n",
       "      <td>0</td>\n",
       "      <td>3</td>\n",
       "      <td>1233</td>\n",
       "      <td>123.0</td>\n",
       "      <td>0</td>\n",
       "      <td>0</td>\n",
       "    </tr>\n",
       "    <tr>\n",
       "      <th>999982</th>\n",
       "      <td>2018</td>\n",
       "      <td>12</td>\n",
       "      <td>0</td>\n",
       "      <td>0</td>\n",
       "      <td>0</td>\n",
       "      <td>0</td>\n",
       "      <td>0.0</td>\n",
       "      <td>0</td>\n",
       "      <td>0</td>\n",
       "    </tr>\n",
       "    <tr>\n",
       "      <th>999986</th>\n",
       "      <td>2018</td>\n",
       "      <td>12</td>\n",
       "      <td>0</td>\n",
       "      <td>0</td>\n",
       "      <td>0</td>\n",
       "      <td>0</td>\n",
       "      <td>0.0</td>\n",
       "      <td>0</td>\n",
       "      <td>0</td>\n",
       "    </tr>\n",
       "  </tbody>\n",
       "</table>\n",
       "</div>"
      ],
      "text/plain": [
       "                Year  Month  Flights Booked  Flights with Companions  \\\n",
       "Loyalty Number                                                         \n",
       "999902          2018     12               0                        0   \n",
       "999911          2018     12               0                        0   \n",
       "999940          2018     12               3                        0   \n",
       "999982          2018     12               0                        0   \n",
       "999986          2018     12               0                        0   \n",
       "\n",
       "                Total Flights  Distance  Points Accumulated  Points Redeemed  \\\n",
       "Loyalty Number                                                                 \n",
       "999902                      0         0                 0.0                0   \n",
       "999911                      0         0                 0.0                0   \n",
       "999940                      3      1233               123.0                0   \n",
       "999982                      0         0                 0.0                0   \n",
       "999986                      0         0                 0.0                0   \n",
       "\n",
       "                Dollar Cost Points Redeemed  \n",
       "Loyalty Number                               \n",
       "999902                                    0  \n",
       "999911                                    0  \n",
       "999940                                    0  \n",
       "999982                                    0  \n",
       "999986                                    0  "
      ]
     },
     "execution_count": 9,
     "metadata": {},
     "output_type": "execute_result"
    }
   ],
   "source": [
    "#Al darnos cuenta de que es un dataset muy grande (con muchas filas) hacemos un tail para inspeccionar los datos del final del conjunto. \n",
    " \n",
    "df_activity.tail()"
   ]
  },
  {
   "cell_type": "code",
   "execution_count": 10,
   "metadata": {},
   "outputs": [
    {
     "data": {
      "text/html": [
       "<div>\n",
       "<style scoped>\n",
       "    .dataframe tbody tr th:only-of-type {\n",
       "        vertical-align: middle;\n",
       "    }\n",
       "\n",
       "    .dataframe tbody tr th {\n",
       "        vertical-align: top;\n",
       "    }\n",
       "\n",
       "    .dataframe thead th {\n",
       "        text-align: right;\n",
       "    }\n",
       "</style>\n",
       "<table border=\"1\" class=\"dataframe\">\n",
       "  <thead>\n",
       "    <tr style=\"text-align: right;\">\n",
       "      <th></th>\n",
       "      <th>Country</th>\n",
       "      <th>Province</th>\n",
       "      <th>City</th>\n",
       "      <th>Postal Code</th>\n",
       "      <th>Gender</th>\n",
       "      <th>Education</th>\n",
       "      <th>Salary</th>\n",
       "      <th>Marital Status</th>\n",
       "      <th>Loyalty Card</th>\n",
       "      <th>CLV</th>\n",
       "      <th>Enrollment Type</th>\n",
       "      <th>Enrollment Year</th>\n",
       "      <th>Enrollment Month</th>\n",
       "      <th>Cancellation Year</th>\n",
       "      <th>Cancellation Month</th>\n",
       "    </tr>\n",
       "    <tr>\n",
       "      <th>Loyalty Number</th>\n",
       "      <th></th>\n",
       "      <th></th>\n",
       "      <th></th>\n",
       "      <th></th>\n",
       "      <th></th>\n",
       "      <th></th>\n",
       "      <th></th>\n",
       "      <th></th>\n",
       "      <th></th>\n",
       "      <th></th>\n",
       "      <th></th>\n",
       "      <th></th>\n",
       "      <th></th>\n",
       "      <th></th>\n",
       "      <th></th>\n",
       "    </tr>\n",
       "  </thead>\n",
       "  <tbody>\n",
       "    <tr>\n",
       "      <th>823768</th>\n",
       "      <td>Canada</td>\n",
       "      <td>British Columbia</td>\n",
       "      <td>Vancouver</td>\n",
       "      <td>V6E 3Z3</td>\n",
       "      <td>Female</td>\n",
       "      <td>College</td>\n",
       "      <td>NaN</td>\n",
       "      <td>Married</td>\n",
       "      <td>Star</td>\n",
       "      <td>61850.19</td>\n",
       "      <td>Standard</td>\n",
       "      <td>2012</td>\n",
       "      <td>12</td>\n",
       "      <td>NaN</td>\n",
       "      <td>NaN</td>\n",
       "    </tr>\n",
       "    <tr>\n",
       "      <th>680886</th>\n",
       "      <td>Canada</td>\n",
       "      <td>Saskatchewan</td>\n",
       "      <td>Regina</td>\n",
       "      <td>S1J 3C5</td>\n",
       "      <td>Female</td>\n",
       "      <td>Bachelor</td>\n",
       "      <td>89210.0</td>\n",
       "      <td>Married</td>\n",
       "      <td>Star</td>\n",
       "      <td>67907.27</td>\n",
       "      <td>Standard</td>\n",
       "      <td>2014</td>\n",
       "      <td>9</td>\n",
       "      <td>NaN</td>\n",
       "      <td>NaN</td>\n",
       "    </tr>\n",
       "    <tr>\n",
       "      <th>776187</th>\n",
       "      <td>Canada</td>\n",
       "      <td>British Columbia</td>\n",
       "      <td>Vancouver</td>\n",
       "      <td>V5R 1W3</td>\n",
       "      <td>Male</td>\n",
       "      <td>College</td>\n",
       "      <td>NaN</td>\n",
       "      <td>Single</td>\n",
       "      <td>Star</td>\n",
       "      <td>74228.52</td>\n",
       "      <td>Standard</td>\n",
       "      <td>2014</td>\n",
       "      <td>3</td>\n",
       "      <td>NaN</td>\n",
       "      <td>NaN</td>\n",
       "    </tr>\n",
       "    <tr>\n",
       "      <th>906428</th>\n",
       "      <td>Canada</td>\n",
       "      <td>Yukon</td>\n",
       "      <td>Whitehorse</td>\n",
       "      <td>Y2K 6R0</td>\n",
       "      <td>Male</td>\n",
       "      <td>Bachelor</td>\n",
       "      <td>-57297.0</td>\n",
       "      <td>Married</td>\n",
       "      <td>Star</td>\n",
       "      <td>10018.66</td>\n",
       "      <td>2018 Promotion</td>\n",
       "      <td>2018</td>\n",
       "      <td>4</td>\n",
       "      <td>NaN</td>\n",
       "      <td>NaN</td>\n",
       "    </tr>\n",
       "    <tr>\n",
       "      <th>652627</th>\n",
       "      <td>Canada</td>\n",
       "      <td>Manitoba</td>\n",
       "      <td>Winnipeg</td>\n",
       "      <td>R2C 0M5</td>\n",
       "      <td>Female</td>\n",
       "      <td>Bachelor</td>\n",
       "      <td>75049.0</td>\n",
       "      <td>Married</td>\n",
       "      <td>Star</td>\n",
       "      <td>83325.38</td>\n",
       "      <td>Standard</td>\n",
       "      <td>2015</td>\n",
       "      <td>12</td>\n",
       "      <td>2016.0</td>\n",
       "      <td>8.0</td>\n",
       "    </tr>\n",
       "  </tbody>\n",
       "</table>\n",
       "</div>"
      ],
      "text/plain": [
       "               Country          Province        City Postal Code  Gender  \\\n",
       "Loyalty Number                                                             \n",
       "823768          Canada  British Columbia   Vancouver     V6E 3Z3  Female   \n",
       "680886          Canada      Saskatchewan      Regina     S1J 3C5  Female   \n",
       "776187          Canada  British Columbia   Vancouver     V5R 1W3    Male   \n",
       "906428          Canada             Yukon  Whitehorse     Y2K 6R0    Male   \n",
       "652627          Canada          Manitoba    Winnipeg     R2C 0M5  Female   \n",
       "\n",
       "               Education   Salary Marital Status Loyalty Card       CLV  \\\n",
       "Loyalty Number                                                            \n",
       "823768           College      NaN        Married         Star  61850.19   \n",
       "680886          Bachelor  89210.0        Married         Star  67907.27   \n",
       "776187           College      NaN         Single         Star  74228.52   \n",
       "906428          Bachelor -57297.0        Married         Star  10018.66   \n",
       "652627          Bachelor  75049.0        Married         Star  83325.38   \n",
       "\n",
       "               Enrollment Type  Enrollment Year  Enrollment Month  \\\n",
       "Loyalty Number                                                      \n",
       "823768                Standard             2012                12   \n",
       "680886                Standard             2014                 9   \n",
       "776187                Standard             2014                 3   \n",
       "906428          2018 Promotion             2018                 4   \n",
       "652627                Standard             2015                12   \n",
       "\n",
       "                Cancellation Year  Cancellation Month  \n",
       "Loyalty Number                                         \n",
       "823768                        NaN                 NaN  \n",
       "680886                        NaN                 NaN  \n",
       "776187                        NaN                 NaN  \n",
       "906428                        NaN                 NaN  \n",
       "652627                     2016.0                 8.0  "
      ]
     },
     "execution_count": 10,
     "metadata": {},
     "output_type": "execute_result"
    }
   ],
   "source": [
    "df_loyalty.tail()"
   ]
  },
  {
   "cell_type": "code",
   "execution_count": 11,
   "metadata": {},
   "outputs": [
    {
     "name": "stdout",
     "output_type": "stream",
     "text": [
      "<class 'pandas.core.frame.DataFrame'>\n",
      "Index: 405624 entries, 100018 to 999986\n",
      "Data columns (total 9 columns):\n",
      " #   Column                       Non-Null Count   Dtype  \n",
      "---  ------                       --------------   -----  \n",
      " 0   Year                         405624 non-null  int64  \n",
      " 1   Month                        405624 non-null  int64  \n",
      " 2   Flights Booked               405624 non-null  int64  \n",
      " 3   Flights with Companions      405624 non-null  int64  \n",
      " 4   Total Flights                405624 non-null  int64  \n",
      " 5   Distance                     405624 non-null  int64  \n",
      " 6   Points Accumulated           405624 non-null  float64\n",
      " 7   Points Redeemed              405624 non-null  int64  \n",
      " 8   Dollar Cost Points Redeemed  405624 non-null  int64  \n",
      "dtypes: float64(1), int64(8)\n",
      "memory usage: 30.9 MB\n"
     ]
    }
   ],
   "source": [
    "# Para saber un poco más en profundiad sobre la estructura general de nuestros dataframes, \n",
    "#haremos un .info()\n",
    "\n",
    "df_activity.info()"
   ]
  },
  {
   "cell_type": "code",
   "execution_count": 12,
   "metadata": {},
   "outputs": [
    {
     "name": "stdout",
     "output_type": "stream",
     "text": [
      "<class 'pandas.core.frame.DataFrame'>\n",
      "Index: 16737 entries, 480934 to 652627\n",
      "Data columns (total 15 columns):\n",
      " #   Column              Non-Null Count  Dtype  \n",
      "---  ------              --------------  -----  \n",
      " 0   Country             16737 non-null  object \n",
      " 1   Province            16737 non-null  object \n",
      " 2   City                16737 non-null  object \n",
      " 3   Postal Code         16737 non-null  object \n",
      " 4   Gender              16737 non-null  object \n",
      " 5   Education           16737 non-null  object \n",
      " 6   Salary              12499 non-null  float64\n",
      " 7   Marital Status      16737 non-null  object \n",
      " 8   Loyalty Card        16737 non-null  object \n",
      " 9   CLV                 16737 non-null  float64\n",
      " 10  Enrollment Type     16737 non-null  object \n",
      " 11  Enrollment Year     16737 non-null  int64  \n",
      " 12  Enrollment Month    16737 non-null  int64  \n",
      " 13  Cancellation Year   2067 non-null   float64\n",
      " 14  Cancellation Month  2067 non-null   float64\n",
      "dtypes: float64(4), int64(2), object(9)\n",
      "memory usage: 2.0+ MB\n"
     ]
    }
   ],
   "source": [
    "df_loyalty.info()"
   ]
  },
  {
   "cell_type": "code",
   "execution_count": 13,
   "metadata": {},
   "outputs": [
    {
     "data": {
      "text/html": [
       "<div>\n",
       "<style scoped>\n",
       "    .dataframe tbody tr th:only-of-type {\n",
       "        vertical-align: middle;\n",
       "    }\n",
       "\n",
       "    .dataframe tbody tr th {\n",
       "        vertical-align: top;\n",
       "    }\n",
       "\n",
       "    .dataframe thead th {\n",
       "        text-align: right;\n",
       "    }\n",
       "</style>\n",
       "<table border=\"1\" class=\"dataframe\">\n",
       "  <thead>\n",
       "    <tr style=\"text-align: right;\">\n",
       "      <th></th>\n",
       "      <th>count</th>\n",
       "      <th>mean</th>\n",
       "      <th>std</th>\n",
       "      <th>min</th>\n",
       "      <th>25%</th>\n",
       "      <th>50%</th>\n",
       "      <th>75%</th>\n",
       "      <th>max</th>\n",
       "    </tr>\n",
       "  </thead>\n",
       "  <tbody>\n",
       "    <tr>\n",
       "      <th>Year</th>\n",
       "      <td>405624.0</td>\n",
       "      <td>2017.500000</td>\n",
       "      <td>0.500001</td>\n",
       "      <td>2017.0</td>\n",
       "      <td>2017.00</td>\n",
       "      <td>2017.5</td>\n",
       "      <td>2018.00</td>\n",
       "      <td>2018.0</td>\n",
       "    </tr>\n",
       "    <tr>\n",
       "      <th>Month</th>\n",
       "      <td>405624.0</td>\n",
       "      <td>6.500000</td>\n",
       "      <td>3.452057</td>\n",
       "      <td>1.0</td>\n",
       "      <td>3.75</td>\n",
       "      <td>6.5</td>\n",
       "      <td>9.25</td>\n",
       "      <td>12.0</td>\n",
       "    </tr>\n",
       "    <tr>\n",
       "      <th>Flights Booked</th>\n",
       "      <td>405624.0</td>\n",
       "      <td>4.115052</td>\n",
       "      <td>5.225518</td>\n",
       "      <td>0.0</td>\n",
       "      <td>0.00</td>\n",
       "      <td>1.0</td>\n",
       "      <td>8.00</td>\n",
       "      <td>21.0</td>\n",
       "    </tr>\n",
       "    <tr>\n",
       "      <th>Flights with Companions</th>\n",
       "      <td>405624.0</td>\n",
       "      <td>1.031805</td>\n",
       "      <td>2.076869</td>\n",
       "      <td>0.0</td>\n",
       "      <td>0.00</td>\n",
       "      <td>0.0</td>\n",
       "      <td>1.00</td>\n",
       "      <td>11.0</td>\n",
       "    </tr>\n",
       "    <tr>\n",
       "      <th>Total Flights</th>\n",
       "      <td>405624.0</td>\n",
       "      <td>5.146858</td>\n",
       "      <td>6.521227</td>\n",
       "      <td>0.0</td>\n",
       "      <td>0.00</td>\n",
       "      <td>1.0</td>\n",
       "      <td>10.00</td>\n",
       "      <td>32.0</td>\n",
       "    </tr>\n",
       "    <tr>\n",
       "      <th>Distance</th>\n",
       "      <td>405624.0</td>\n",
       "      <td>1208.880059</td>\n",
       "      <td>1433.155320</td>\n",
       "      <td>0.0</td>\n",
       "      <td>0.00</td>\n",
       "      <td>488.0</td>\n",
       "      <td>2336.00</td>\n",
       "      <td>6293.0</td>\n",
       "    </tr>\n",
       "    <tr>\n",
       "      <th>Points Accumulated</th>\n",
       "      <td>405624.0</td>\n",
       "      <td>123.692721</td>\n",
       "      <td>146.599831</td>\n",
       "      <td>0.0</td>\n",
       "      <td>0.00</td>\n",
       "      <td>50.0</td>\n",
       "      <td>239.00</td>\n",
       "      <td>676.5</td>\n",
       "    </tr>\n",
       "    <tr>\n",
       "      <th>Points Redeemed</th>\n",
       "      <td>405624.0</td>\n",
       "      <td>30.696872</td>\n",
       "      <td>125.486049</td>\n",
       "      <td>0.0</td>\n",
       "      <td>0.00</td>\n",
       "      <td>0.0</td>\n",
       "      <td>0.00</td>\n",
       "      <td>876.0</td>\n",
       "    </tr>\n",
       "    <tr>\n",
       "      <th>Dollar Cost Points Redeemed</th>\n",
       "      <td>405624.0</td>\n",
       "      <td>2.484503</td>\n",
       "      <td>10.150038</td>\n",
       "      <td>0.0</td>\n",
       "      <td>0.00</td>\n",
       "      <td>0.0</td>\n",
       "      <td>0.00</td>\n",
       "      <td>71.0</td>\n",
       "    </tr>\n",
       "  </tbody>\n",
       "</table>\n",
       "</div>"
      ],
      "text/plain": [
       "                                count         mean          std     min  \\\n",
       "Year                         405624.0  2017.500000     0.500001  2017.0   \n",
       "Month                        405624.0     6.500000     3.452057     1.0   \n",
       "Flights Booked               405624.0     4.115052     5.225518     0.0   \n",
       "Flights with Companions      405624.0     1.031805     2.076869     0.0   \n",
       "Total Flights                405624.0     5.146858     6.521227     0.0   \n",
       "Distance                     405624.0  1208.880059  1433.155320     0.0   \n",
       "Points Accumulated           405624.0   123.692721   146.599831     0.0   \n",
       "Points Redeemed              405624.0    30.696872   125.486049     0.0   \n",
       "Dollar Cost Points Redeemed  405624.0     2.484503    10.150038     0.0   \n",
       "\n",
       "                                 25%     50%      75%     max  \n",
       "Year                         2017.00  2017.5  2018.00  2018.0  \n",
       "Month                           3.75     6.5     9.25    12.0  \n",
       "Flights Booked                  0.00     1.0     8.00    21.0  \n",
       "Flights with Companions         0.00     0.0     1.00    11.0  \n",
       "Total Flights                   0.00     1.0    10.00    32.0  \n",
       "Distance                        0.00   488.0  2336.00  6293.0  \n",
       "Points Accumulated              0.00    50.0   239.00   676.5  \n",
       "Points Redeemed                 0.00     0.0     0.00   876.0  \n",
       "Dollar Cost Points Redeemed     0.00     0.0     0.00    71.0  "
      ]
     },
     "execution_count": 13,
     "metadata": {},
     "output_type": "execute_result"
    }
   ],
   "source": [
    "# Y ya que estamos haciendo un vistazo general, vamos a obtener información sobre las estadísticas básicas con describe().\n",
    "#Añadimos la .T de \"transpose\" para poder visualizar más facilmente las estadísticas principales. \n",
    "\n",
    "df_activity.describe().T\n"
   ]
  },
  {
   "cell_type": "code",
   "execution_count": 14,
   "metadata": {},
   "outputs": [
    {
     "data": {
      "text/html": [
       "<div>\n",
       "<style scoped>\n",
       "    .dataframe tbody tr th:only-of-type {\n",
       "        vertical-align: middle;\n",
       "    }\n",
       "\n",
       "    .dataframe tbody tr th {\n",
       "        vertical-align: top;\n",
       "    }\n",
       "\n",
       "    .dataframe thead th {\n",
       "        text-align: right;\n",
       "    }\n",
       "</style>\n",
       "<table border=\"1\" class=\"dataframe\">\n",
       "  <thead>\n",
       "    <tr style=\"text-align: right;\">\n",
       "      <th></th>\n",
       "      <th>count</th>\n",
       "      <th>mean</th>\n",
       "      <th>std</th>\n",
       "      <th>min</th>\n",
       "      <th>25%</th>\n",
       "      <th>50%</th>\n",
       "      <th>75%</th>\n",
       "      <th>max</th>\n",
       "    </tr>\n",
       "  </thead>\n",
       "  <tbody>\n",
       "    <tr>\n",
       "      <th>Salary</th>\n",
       "      <td>12499.0</td>\n",
       "      <td>79245.609409</td>\n",
       "      <td>35008.297285</td>\n",
       "      <td>-58486.00</td>\n",
       "      <td>59246.50</td>\n",
       "      <td>73455.00</td>\n",
       "      <td>88517.50</td>\n",
       "      <td>407228.00</td>\n",
       "    </tr>\n",
       "    <tr>\n",
       "      <th>CLV</th>\n",
       "      <td>16737.0</td>\n",
       "      <td>7988.896536</td>\n",
       "      <td>6860.982280</td>\n",
       "      <td>1898.01</td>\n",
       "      <td>3980.84</td>\n",
       "      <td>5780.18</td>\n",
       "      <td>8940.58</td>\n",
       "      <td>83325.38</td>\n",
       "    </tr>\n",
       "    <tr>\n",
       "      <th>Enrollment Year</th>\n",
       "      <td>16737.0</td>\n",
       "      <td>2015.253211</td>\n",
       "      <td>1.979111</td>\n",
       "      <td>2012.00</td>\n",
       "      <td>2014.00</td>\n",
       "      <td>2015.00</td>\n",
       "      <td>2017.00</td>\n",
       "      <td>2018.00</td>\n",
       "    </tr>\n",
       "    <tr>\n",
       "      <th>Enrollment Month</th>\n",
       "      <td>16737.0</td>\n",
       "      <td>6.669116</td>\n",
       "      <td>3.398958</td>\n",
       "      <td>1.00</td>\n",
       "      <td>4.00</td>\n",
       "      <td>7.00</td>\n",
       "      <td>10.00</td>\n",
       "      <td>12.00</td>\n",
       "    </tr>\n",
       "    <tr>\n",
       "      <th>Cancellation Year</th>\n",
       "      <td>2067.0</td>\n",
       "      <td>2016.503145</td>\n",
       "      <td>1.380743</td>\n",
       "      <td>2013.00</td>\n",
       "      <td>2016.00</td>\n",
       "      <td>2017.00</td>\n",
       "      <td>2018.00</td>\n",
       "      <td>2018.00</td>\n",
       "    </tr>\n",
       "    <tr>\n",
       "      <th>Cancellation Month</th>\n",
       "      <td>2067.0</td>\n",
       "      <td>6.962748</td>\n",
       "      <td>3.455297</td>\n",
       "      <td>1.00</td>\n",
       "      <td>4.00</td>\n",
       "      <td>7.00</td>\n",
       "      <td>10.00</td>\n",
       "      <td>12.00</td>\n",
       "    </tr>\n",
       "  </tbody>\n",
       "</table>\n",
       "</div>"
      ],
      "text/plain": [
       "                      count          mean           std       min       25%  \\\n",
       "Salary              12499.0  79245.609409  35008.297285 -58486.00  59246.50   \n",
       "CLV                 16737.0   7988.896536   6860.982280   1898.01   3980.84   \n",
       "Enrollment Year     16737.0   2015.253211      1.979111   2012.00   2014.00   \n",
       "Enrollment Month    16737.0      6.669116      3.398958      1.00      4.00   \n",
       "Cancellation Year    2067.0   2016.503145      1.380743   2013.00   2016.00   \n",
       "Cancellation Month   2067.0      6.962748      3.455297      1.00      4.00   \n",
       "\n",
       "                         50%       75%        max  \n",
       "Salary              73455.00  88517.50  407228.00  \n",
       "CLV                  5780.18   8940.58   83325.38  \n",
       "Enrollment Year      2015.00   2017.00    2018.00  \n",
       "Enrollment Month        7.00     10.00      12.00  \n",
       "Cancellation Year    2017.00   2018.00    2018.00  \n",
       "Cancellation Month      7.00     10.00      12.00  "
      ]
     },
     "execution_count": 14,
     "metadata": {},
     "output_type": "execute_result"
    }
   ],
   "source": [
    "df_loyalty.describe().T"
   ]
  },
  {
   "cell_type": "code",
   "execution_count": 15,
   "metadata": {},
   "outputs": [
    {
     "data": {
      "text/html": [
       "<div>\n",
       "<style scoped>\n",
       "    .dataframe tbody tr th:only-of-type {\n",
       "        vertical-align: middle;\n",
       "    }\n",
       "\n",
       "    .dataframe tbody tr th {\n",
       "        vertical-align: top;\n",
       "    }\n",
       "\n",
       "    .dataframe thead th {\n",
       "        text-align: right;\n",
       "    }\n",
       "</style>\n",
       "<table border=\"1\" class=\"dataframe\">\n",
       "  <thead>\n",
       "    <tr style=\"text-align: right;\">\n",
       "      <th></th>\n",
       "      <th>Year</th>\n",
       "      <th>Month</th>\n",
       "      <th>Flights Booked</th>\n",
       "      <th>Flights with Companions</th>\n",
       "      <th>Total Flights</th>\n",
       "      <th>Distance</th>\n",
       "      <th>Points Accumulated</th>\n",
       "      <th>Points Redeemed</th>\n",
       "      <th>Dollar Cost Points Redeemed</th>\n",
       "    </tr>\n",
       "    <tr>\n",
       "      <th>Loyalty Number</th>\n",
       "      <th></th>\n",
       "      <th></th>\n",
       "      <th></th>\n",
       "      <th></th>\n",
       "      <th></th>\n",
       "      <th></th>\n",
       "      <th></th>\n",
       "      <th></th>\n",
       "      <th></th>\n",
       "    </tr>\n",
       "  </thead>\n",
       "  <tbody>\n",
       "  </tbody>\n",
       "</table>\n",
       "</div>"
      ],
      "text/plain": [
       "Empty DataFrame\n",
       "Columns: [Year, Month, Flights Booked, Flights with Companions, Total Flights, Distance, Points Accumulated, Points Redeemed, Dollar Cost Points Redeemed]\n",
       "Index: []"
      ]
     },
     "execution_count": 15,
     "metadata": {},
     "output_type": "execute_result"
    }
   ],
   "source": [
    "#En primer lugar, vamos a comprobar si \"Total flights\" es menor que \"Flights Booked\" para saber si los números son correctos: \n",
    "\n",
    "df_activity[df_activity[\"Total Flights\"] < df_activity[\"Flights Booked\"]]"
   ]
  },
  {
   "cell_type": "code",
   "execution_count": 16,
   "metadata": {},
   "outputs": [
    {
     "data": {
      "text/html": [
       "<div>\n",
       "<style scoped>\n",
       "    .dataframe tbody tr th:only-of-type {\n",
       "        vertical-align: middle;\n",
       "    }\n",
       "\n",
       "    .dataframe tbody tr th {\n",
       "        vertical-align: top;\n",
       "    }\n",
       "\n",
       "    .dataframe thead th {\n",
       "        text-align: right;\n",
       "    }\n",
       "</style>\n",
       "<table border=\"1\" class=\"dataframe\">\n",
       "  <thead>\n",
       "    <tr style=\"text-align: right;\">\n",
       "      <th></th>\n",
       "      <th>Year</th>\n",
       "      <th>Month</th>\n",
       "      <th>Flights Booked</th>\n",
       "      <th>Flights with Companions</th>\n",
       "      <th>Total Flights</th>\n",
       "      <th>Distance</th>\n",
       "      <th>Points Accumulated</th>\n",
       "      <th>Points Redeemed</th>\n",
       "      <th>Dollar Cost Points Redeemed</th>\n",
       "    </tr>\n",
       "    <tr>\n",
       "      <th>Loyalty Number</th>\n",
       "      <th></th>\n",
       "      <th></th>\n",
       "      <th></th>\n",
       "      <th></th>\n",
       "      <th></th>\n",
       "      <th></th>\n",
       "      <th></th>\n",
       "      <th></th>\n",
       "      <th></th>\n",
       "    </tr>\n",
       "  </thead>\n",
       "  <tbody>\n",
       "  </tbody>\n",
       "</table>\n",
       "</div>"
      ],
      "text/plain": [
       "Empty DataFrame\n",
       "Columns: [Year, Month, Flights Booked, Flights with Companions, Total Flights, Distance, Points Accumulated, Points Redeemed, Dollar Cost Points Redeemed]\n",
       "Index: []"
      ]
     },
     "execution_count": 16,
     "metadata": {},
     "output_type": "execute_result"
    }
   ],
   "source": [
    "# Y también comprobamos si \"Total flights\" es menor que \"Flights with Companions\" para saber si los números son correctos: \n",
    "\n",
    "df_activity[df_activity[\"Total Flights\"] < df_activity[\"Flights with Companions\"]]"
   ]
  },
  {
   "cell_type": "code",
   "execution_count": 17,
   "metadata": {},
   "outputs": [],
   "source": [
    "#Tras haber comparado que el número de vuelos esté correcto, nos volvemos a fijar en el resumen y vemos datos que nos llaman la atención:\n",
    "\n",
    "#En salary, tenemos el un mínimo negativo, evidentemente es erroneo. \n",
    "#Puede ser que haya sido porque en lugar de poner un num. entero se haya \"colado\" el negativo antes.\n",
    " \n",
    "# Vamos a investigar y a ver cómo los gestionamos.  "
   ]
  },
  {
   "cell_type": "code",
   "execution_count": 18,
   "metadata": {},
   "outputs": [
    {
     "name": "stdout",
     "output_type": "stream",
     "text": [
      "20\n"
     ]
    }
   ],
   "source": [
    "#Total valores negativos de la columna [\"Salary\"]:\n",
    "\n",
    "negativos_loyalty = (df_loyalty['Salary'] < 0).sum()\n",
    "print(negativos_loyalty)"
   ]
  },
  {
   "cell_type": "code",
   "execution_count": 19,
   "metadata": {},
   "outputs": [
    {
     "name": "stdout",
     "output_type": "stream",
     "text": [
      "990490872.0\n"
     ]
    }
   ],
   "source": [
    "#Total valores de la columna [\"Salary\"]:\n",
    "\n",
    "salary_total = (df_loyalty[\"Salary\"]).sum()\n",
    "print(salary_total)"
   ]
  },
  {
   "cell_type": "code",
   "execution_count": 20,
   "metadata": {},
   "outputs": [
    {
     "name": "stdout",
     "output_type": "stream",
     "text": [
      "El porcentaje que representan los negativos es: 0.000002%\n"
     ]
    }
   ],
   "source": [
    "#Porcentaje que representan los valores negativos en la columna [\"Salary\"]:\n",
    "\n",
    "porcentaje = (negativos_loyalty / salary_total) * 100\n",
    "print(f\"El porcentaje que representan los negativos es: {porcentaje:.6f}%\")"
   ]
  },
  {
   "cell_type": "code",
   "execution_count": 21,
   "metadata": {},
   "outputs": [],
   "source": [
    "#En este caso, el % es tan ínfimo que lo mejor es eliminar directamente estos negativos. \n",
    "#Lo haremos más adelante, cuando acabemos nuestro EDA. "
   ]
  },
  {
   "cell_type": "code",
   "execution_count": 22,
   "metadata": {},
   "outputs": [
    {
     "data": {
      "text/plain": [
       "Year                           0\n",
       "Month                          0\n",
       "Flights Booked                 0\n",
       "Flights with Companions        0\n",
       "Total Flights                  0\n",
       "Distance                       0\n",
       "Points Accumulated             0\n",
       "Points Redeemed                0\n",
       "Dollar Cost Points Redeemed    0\n",
       "dtype: int64"
      ]
     },
     "execution_count": 22,
     "metadata": {},
     "output_type": "execute_result"
    }
   ],
   "source": [
    "#Observamos si hay valores nulos en nuestros df. Para ver el número total de nulos de cada columna, hacemos una suma. \n",
    "\n",
    "df_activity.isnull().sum()\n",
    "\n",
    "#Aquí observamos que no hay nulos en este df. \n",
    "\n"
   ]
  },
  {
   "cell_type": "code",
   "execution_count": 23,
   "metadata": {},
   "outputs": [
    {
     "data": {
      "text/plain": [
       "Country                   0\n",
       "Province                  0\n",
       "City                      0\n",
       "Postal Code               0\n",
       "Gender                    0\n",
       "Education                 0\n",
       "Salary                 4238\n",
       "Marital Status            0\n",
       "Loyalty Card              0\n",
       "CLV                       0\n",
       "Enrollment Type           0\n",
       "Enrollment Year           0\n",
       "Enrollment Month          0\n",
       "Cancellation Year     14670\n",
       "Cancellation Month    14670\n",
       "dtype: int64"
      ]
     },
     "execution_count": 23,
     "metadata": {},
     "output_type": "execute_result"
    }
   ],
   "source": [
    "df_loyalty.isnull().sum()\n",
    "\n",
    "#Aquí observamos que hay nulos en la columna de [salary], [cancellation year], [cancellation month]."
   ]
  },
  {
   "cell_type": "code",
   "execution_count": 24,
   "metadata": {},
   "outputs": [
    {
     "name": "stdout",
     "output_type": "stream",
     "text": [
      "Porcentaje de valores nulos en las columnas seleccionadas:\n",
      "Salary                25.321145\n",
      "Cancellation Year     87.650117\n",
      "Cancellation Month    87.650117\n",
      "dtype: float64\n"
     ]
    }
   ],
   "source": [
    "#Vamos a calcular cuánto representan estos nulos en % para el total de nulos de cada columna y así saber si es significativo y si debemos tratarlos: \n",
    "\n",
    "#Primero, seleccionamos las columnas que vamos a analizar los nulos y creamos una nueva variable.\n",
    "columnas_nulos = ['Salary', 'Cancellation Year', 'Cancellation Month']\n",
    "\n",
    "#Hacemos la media para calcular la PROPORCIÓN de valores nulos respecto al total.\n",
    "porcentaje_nulos_especificas = df_loyalty[columnas_nulos].isnull().mean() * 100 \n",
    "\n",
    "print(\"Porcentaje de valores nulos en las columnas seleccionadas:\")\n",
    "print(porcentaje_nulos_especificas)\n",
    "\n",
    "#En ese caso, nos damos cuenta que la columan que necesita más gestión de nulos es [Salary] ya que representa un 25% del total de datos. \n",
    "#Las columnas de [Cancellarion Year], [Cancellation Month] con un 87% de nulos. \n",
    "#Cuando entendemos de las columnas que se tratan nos damos cuenta de que:\n",
    "# Los nulos en \"Cancelación de la suscripción\" y \"Mes de cancelación\", son porque el cliente/viajero sigue siendo cliente/viajero de la compañía. \n",
    "#Por lo tanto, lo que haremos será cambiar esos nulos por: \"Active\" y la otra opción será \"No active\"."
   ]
  },
  {
   "cell_type": "code",
   "execution_count": 25,
   "metadata": {},
   "outputs": [
    {
     "data": {
      "text/plain": [
       "Year                             int64\n",
       "Month                            int64\n",
       "Flights Booked                   int64\n",
       "Flights with Companions          int64\n",
       "Total Flights                    int64\n",
       "Distance                         int64\n",
       "Points Accumulated             float64\n",
       "Points Redeemed                  int64\n",
       "Dollar Cost Points Redeemed      int64\n",
       "dtype: object"
      ]
     },
     "execution_count": 25,
     "metadata": {},
     "output_type": "execute_result"
    }
   ],
   "source": [
    "#Vamos a ver los tipos de datos que tenemos en nuestro dataframe: \n",
    "\n",
    "df_activity.dtypes\n",
    "\n",
    "#En el caso del dataset, todos los datos son del tipo numérico. "
   ]
  },
  {
   "cell_type": "code",
   "execution_count": 26,
   "metadata": {},
   "outputs": [
    {
     "data": {
      "text/plain": [
       "Loyalty Number\n",
       "100018    152.0\n",
       "100102    203.0\n",
       "100140    120.0\n",
       "100214      0.0\n",
       "100272      0.0\n",
       "          ...  \n",
       "999902      0.0\n",
       "999911      0.0\n",
       "999940    123.0\n",
       "999982      0.0\n",
       "999986      0.0\n",
       "Name: Points Accumulated, Length: 405624, dtype: float64"
      ]
     },
     "execution_count": 26,
     "metadata": {},
     "output_type": "execute_result"
    }
   ],
   "source": [
    "#Vamos a ver si tiene sentido que los valores de la columna de \"Points Accumulated\" sea del tipo float. \n",
    "\n",
    "df_activity[\"Points Accumulated\"]\n",
    "\n",
    "#No tiene ningún sentido, así que los vamos a convertir en int. "
   ]
  },
  {
   "cell_type": "code",
   "execution_count": 27,
   "metadata": {},
   "outputs": [
    {
     "data": {
      "text/plain": [
       "Country                object\n",
       "Province               object\n",
       "City                   object\n",
       "Postal Code            object\n",
       "Gender                 object\n",
       "Education              object\n",
       "Salary                float64\n",
       "Marital Status         object\n",
       "Loyalty Card           object\n",
       "CLV                   float64\n",
       "Enrollment Type        object\n",
       "Enrollment Year         int64\n",
       "Enrollment Month        int64\n",
       "Cancellation Year     float64\n",
       "Cancellation Month    float64\n",
       "dtype: object"
      ]
     },
     "execution_count": 27,
     "metadata": {},
     "output_type": "execute_result"
    }
   ],
   "source": [
    "df_loyalty.dtypes\n",
    "\n",
    "#En el caso de este dataset, hay una combinación entre datos numéricos y categóricos. "
   ]
  },
  {
   "cell_type": "code",
   "execution_count": 28,
   "metadata": {},
   "outputs": [
    {
     "data": {
      "text/plain": [
       "Loyalty Number\n",
       "480934     3839.14\n",
       "549612     3839.61\n",
       "429460     3839.75\n",
       "608370     3839.75\n",
       "530508     3842.79\n",
       "            ...   \n",
       "823768    61850.19\n",
       "680886    67907.27\n",
       "776187    74228.52\n",
       "906428    10018.66\n",
       "652627    83325.38\n",
       "Name: CLV, Length: 16737, dtype: float64"
      ]
     },
     "execution_count": 28,
     "metadata": {},
     "output_type": "execute_result"
    }
   ],
   "source": [
    "#Vamos a ver si tiene sentido que los valores de la columna de \"CLV\" sea del tipo float. \n",
    "\n",
    "df_loyalty[\"CLV\"]\n",
    "\n",
    "#Pensamos que no tiene mucho sentido dejar esta variable en float (Customer life Value) pero antes de modificarlo, lo consultaremos con el clinte. "
   ]
  },
  {
   "cell_type": "code",
   "execution_count": 29,
   "metadata": {},
   "outputs": [
    {
     "name": "stdout",
     "output_type": "stream",
     "text": [
      "Columnas categóricas del df_loyalty:\n",
      "Index(['Country', 'Province', 'City', 'Postal Code', 'Gender', 'Education',\n",
      "       'Marital Status', 'Loyalty Card', 'Enrollment Type'],\n",
      "      dtype='object')\n",
      "['Canada']\n",
      "--------------------------------------------------\n",
      "['Ontario' 'Alberta' 'British Columbia' 'Quebec' 'Yukon' 'New Brunswick'\n",
      " 'Manitoba' 'Nova Scotia' 'Saskatchewan' 'Newfoundland'\n",
      " 'Prince Edward Island']\n",
      "--------------------------------------------------\n",
      "['Toronto' 'Edmonton' 'Vancouver' 'Hull' 'Whitehorse' 'Trenton' 'Montreal'\n",
      " 'Dawson Creek' 'Quebec City' 'Fredericton' 'Ottawa' 'Tremblant' 'Calgary'\n",
      " 'Thunder Bay' 'Whistler' 'Peace River' 'Winnipeg' 'Sudbury'\n",
      " 'West Vancouver' 'Halifax' 'London' 'Regina' 'Kelowna' \"St. John's\"\n",
      " 'Victoria' 'Kingston' 'Banff' 'Moncton' 'Charlottetown']\n",
      "--------------------------------------------------\n",
      "['M2Z 4K1' 'T3G 6Y6' 'V6E 3D9' 'P1W 1K4' 'J8Y 3Z5' 'Y2K 6R0' 'P5S 6R4'\n",
      " 'K8V 4B2' 'H2Y 2W2' 'M8Y 4K8' 'U5I 4F1' 'G1B 3L5' 'H4G 3T4' 'M2M 7K8'\n",
      " 'M2M 6J7' 'E3B 2H2' 'M1R 4K3' 'T9G 1W3' 'H2Y 4R4' 'V5R 1W3' 'P1L 8X8'\n",
      " 'K1F 2R2' 'H5Y 2S9' 'V1E 4R6' 'H2T 2J6' 'T3E 2V9' 'H2T 9K8' 'K8T 5M5'\n",
      " 'V6T 1Y8' 'P2T 6G3' 'T9O 2W2' 'V6E 3Z3' 'R6Y 4T5' 'M5V 1G5' 'V6V 8Z3'\n",
      " 'B3J 9S2' 'M5B 3E4' 'R2C 0M5' 'S6J 3G0' 'M2P 4F6' 'P1J 8T7' 'V09 2E9'\n",
      " 'A1C 6H9' 'V10 6T5' 'B3C 2M8' 'M9K 2P4' 'T4V 1D4' 'R3R 3T4' 'S1J 3C5'\n",
      " 'E1A 2A7' 'K1G 4Z0' 'H3T 8L4' 'C1A 6E8' 'H3J 5I6' 'M3R 4K8']\n",
      "--------------------------------------------------\n",
      "['Female' 'Male']\n",
      "--------------------------------------------------\n",
      "['Bachelor' 'College' 'Master' 'High School or Below' 'Doctor']\n",
      "--------------------------------------------------\n",
      "['Married' 'Divorced' 'Single']\n",
      "--------------------------------------------------\n",
      "['Star' 'Aurora' 'Nova']\n",
      "--------------------------------------------------\n",
      "['Standard' '2018 Promotion']\n",
      "--------------------------------------------------\n"
     ]
    }
   ],
   "source": [
    "#Ahora vamos a ver los distintos datos únicos que hay dentro de las columnas ya que suelen haber muchos errores de typing: \n",
    "\n",
    "#Primero, definimos una variable que tan solo analice las variables categóricas de \"loyalty\" y a partir de aquí hacemos un bucle que itere por cada columna. \n",
    "\n",
    "columnas_categoricas_loyalty = df_loyalty.select_dtypes(include=['object', 'category']).columns\n",
    "print(\"Columnas categóricas del df_loyalty:\")\n",
    "print(columnas_categoricas_loyalty)\n",
    "\n",
    "for columna in columnas_categoricas_loyalty:\n",
    "    print(df_loyalty[columna].unique())\n",
    "    print(\"-\" * 50)\n",
    "\n",
    "\n",
    "#Observamos que no hay errores de typing y ahora ya sabemos todas las opciones dentro de una misma categoría. "
   ]
  },
  {
   "cell_type": "code",
   "execution_count": 30,
   "metadata": {},
   "outputs": [
    {
     "name": "stdout",
     "output_type": "stream",
     "text": [
      "Duplicados completos en df_activity:\n",
      "228705\n",
      "Duplicados completos en df_loyalty:\n",
      "0\n"
     ]
    }
   ],
   "source": [
    "#Ahora nos adentramos en los duplicados. \n",
    "#Debemos diferenciar si hay VALORES DUPLICADOS o FILAS ENTERAS duplicadas. \n",
    "#Por ejemplo, lo más normal es que una persona que es viajera frecuente repita destinos, meses, acompañantes... \n",
    "#Por este motivo, debemos hacer una diferenciación. \n",
    "\n",
    "\n",
    "#Duplicados completos\n",
    "print(\"Duplicados completos en df_activity:\")\n",
    "print(df_activity.duplicated().sum())\n",
    "\n",
    "print(\"Duplicados completos en df_loyalty:\")\n",
    "print(df_loyalty.duplicated().sum())"
   ]
  },
  {
   "cell_type": "code",
   "execution_count": 31,
   "metadata": {},
   "outputs": [
    {
     "data": {
      "text/plain": [
       "16737"
      ]
     },
     "execution_count": 31,
     "metadata": {},
     "output_type": "execute_result"
    }
   ],
   "source": [
    "#Primera comprobación antes de la limpieza de duplicados: \n",
    "\n",
    "len(df_loyalty.index)\n"
   ]
  },
  {
   "cell_type": "code",
   "execution_count": 32,
   "metadata": {},
   "outputs": [],
   "source": [
    "#¿Cómo gestionamos estos duplicados?\n",
    "\n",
    "#Nuestro df tiene info de viajeros frecuentes (Loyalty Number) y debemos gestionar los duplicados. \n",
    "#No podemos eliminar los duplicados solo por la columna de (Loyalty Number) porque cada viajero tienen registros válidos que se repiten (como años, meses o vuelos).\n",
    "#EL PROBLEMA: cuando un mismo viajero (mismo Loyalty Number) tiene más de una fila para el mismo mes y el mismo año. \n",
    "#Debería haber una fila con el mismo mes y año (que agrupase a ambos).\n",
    "#Vamos a agupar para que aparezca una única fila para cada viajero por mes y año, si hay varias filas unimos la info con un sum(). "
   ]
  },
  {
   "cell_type": "code",
   "execution_count": 33,
   "metadata": {},
   "outputs": [],
   "source": [
    "#Igualamos la variable para que se modifique en nuestro df y agrupar por número, mes y año que es ahí donde estaba el problema. \n",
    "#Luego, sumamos todas las columnas del df. \n",
    "\n",
    "df_activity = df_activity.groupby([\"Loyalty Number\", \"Year\", \"Month\"]).sum().reset_index()"
   ]
  },
  {
   "cell_type": "code",
   "execution_count": 34,
   "metadata": {},
   "outputs": [
    {
     "data": {
      "text/plain": [
       "np.int64(0)"
      ]
     },
     "execution_count": 34,
     "metadata": {},
     "output_type": "execute_result"
    }
   ],
   "source": [
    "#Comprbamos que no hayan duplicados y... ¡Ya no hay!\n",
    "\n",
    "df_activity.duplicated().sum()"
   ]
  },
  {
   "cell_type": "code",
   "execution_count": 35,
   "metadata": {},
   "outputs": [
    {
     "data": {
      "text/plain": [
       "16737"
      ]
     },
     "execution_count": 35,
     "metadata": {},
     "output_type": "execute_result"
    }
   ],
   "source": [
    "#Comporbamos que seguimos tenienodo el mismo num de \"Loyalty number\" (index) tras la limpieza de duplicados: \n",
    "\n",
    "len(df_loyalty.index)"
   ]
  },
  {
   "cell_type": "code",
   "execution_count": 36,
   "metadata": {},
   "outputs": [],
   "source": [
    "# Para acabar de hacer la exploración, aplicaremos la función general de todos los datos: "
   ]
  },
  {
   "cell_type": "code",
   "execution_count": 37,
   "metadata": {},
   "outputs": [],
   "source": [
    "#Función que explora los datos: \n",
    "\n",
    "#Función que explora los datos: \n",
    "\n",
    "def exploracion(dataframe):\n",
    "    '''\n",
    "    Realiza una exploración inicial de un DataFrame de pandas proporcionando información \n",
    "    sobre los datos nulos, duplicados, tipos de datos, valores únicos y estadísticas descriptivas.\n",
    "\n",
    "    Esta función imprime un resumen con:\n",
    "    - El número de filas y columnas del DataFrame.\n",
    "    - El porcentaje de valores nulos y no nulos por columna.\n",
    "    - El tipo de dato de cada columna.\n",
    "    - El número de valores únicos en cada columna.\n",
    "    - El número total de registros duplicados y su porcentaje respecto al total de filas.\n",
    "    - Las columnas que contienen datos nulos y las que no contienen datos nulos.\n",
    "    - Estadísticas descriptivas para las columnas numéricas y categóricas (de tipo 'object').\n",
    "\n",
    "    Parámetros:\n",
    "    ----------\n",
    "    df : pandas.DataFrame\n",
    "        El DataFrame que se desea explorar.\n",
    "\n",
    "    Retorna:\n",
    "    --------\n",
    "    df_info : pandas.DataFrame\n",
    "        Un DataFrame con la siguiente información para cada columna:\n",
    "        - '% nulos': Porcentaje de valores nulos.\n",
    "        - '% no_nulos': Porcentaje de valores no nulos.\n",
    "        - 'tipo_dato': Tipo de dato de la columna.\n",
    "        - 'num_valores_unicos': Número de valores únicos en la columna.'''\n",
    "    \n",
    "    df_info = pd.DataFrame()\n",
    "\n",
    "    df_info[\"% nulos\"] = round(dataframe.isna().sum()/dataframe.shape[0]*100, 2).astype(str)+\"%\" # type: ignore\n",
    "    df_info[\"% no_nulos\"] = round(dataframe.notna().sum()/dataframe.shape[0]*100, 2).astype(str)+\"%\" # type: ignore\n",
    "    df_info[\"tipo_dato\"] = dataframe.dtypes # type: ignore\n",
    "    df_info[\"num_valores_unicos\"] = dataframe.nunique() # type: ignore\n",
    "\n",
    "    print(f\"\"\"El DataFrame tiene {dataframe.shape[0]} filas y {dataframe.shape[1]} columnas. # type: ignore # type: ignore # type: ignore # type: ignore # type: ignore # type: ignore # type: ignore # type: ignore # type: ignore # type: ignore\n",
    "    Tiene {dataframe.duplicated().sum()} datos duplicados, lo que supone un porcentaje de {round(dataframe.duplicated().sum()/dataframe.shape[0], 2)}% de los datos.\n",
    "\n",
    "    Hay {len(list(df_info[(df_info[\"% nulos\"] != \"0.0%\")].index))} columnas con datos nulos, y son: \n",
    "    {list(df_info[(df_info[\"% nulos\"] != \"0.0%\")].index)}\n",
    "\n",
    "    y sin nulos hay {len(list(df_info[(df_info[\"% nulos\"] == \"0.0%\")].index))} columnas y son: \n",
    "    {list(df_info[(df_info[\"% nulos\"] == \"0.0%\")].index)}\n",
    "\n",
    "    A continuación tenemos un detalle sobre los datos nulos y los tipos y número de datos:\"\"\")\n",
    "\n",
    "    display(df_info.head())\n",
    "\n",
    "    print(\"Principales estadísticos de las columnas categóricas:\")\n",
    "\n",
    "    try:\n",
    "\n",
    "        display(dataframe.describe(include=\"object\").T)\n",
    "\n",
    "    except: print(\"No existen variables categóricas\")\n",
    "\n",
    "    print(\"Principales estadísticos de las columnas numéricas:\")\n",
    "\n",
    "    display(dataframe.describe(exclude=\"object\").T)\n",
    "\n",
    "    return df_info"
   ]
  },
  {
   "cell_type": "code",
   "execution_count": 38,
   "metadata": {},
   "outputs": [
    {
     "name": "stdout",
     "output_type": "stream",
     "text": [
      "El DataFrame tiene 401688 filas y 10 columnas. # type: ignore # type: ignore # type: ignore # type: ignore # type: ignore # type: ignore # type: ignore # type: ignore # type: ignore # type: ignore\n",
      "    Tiene 0 datos duplicados, lo que supone un porcentaje de 0.0% de los datos.\n",
      "\n",
      "    Hay 0 columnas con datos nulos, y son: \n",
      "    []\n",
      "\n",
      "    y sin nulos hay 10 columnas y son: \n",
      "    ['Loyalty Number', 'Year', 'Month', 'Flights Booked', 'Flights with Companions', 'Total Flights', 'Distance', 'Points Accumulated', 'Points Redeemed', 'Dollar Cost Points Redeemed']\n",
      "\n",
      "    A continuación tenemos un detalle sobre los datos nulos y los tipos y número de datos:\n"
     ]
    },
    {
     "data": {
      "text/html": [
       "<div>\n",
       "<style scoped>\n",
       "    .dataframe tbody tr th:only-of-type {\n",
       "        vertical-align: middle;\n",
       "    }\n",
       "\n",
       "    .dataframe tbody tr th {\n",
       "        vertical-align: top;\n",
       "    }\n",
       "\n",
       "    .dataframe thead th {\n",
       "        text-align: right;\n",
       "    }\n",
       "</style>\n",
       "<table border=\"1\" class=\"dataframe\">\n",
       "  <thead>\n",
       "    <tr style=\"text-align: right;\">\n",
       "      <th></th>\n",
       "      <th>% nulos</th>\n",
       "      <th>% no_nulos</th>\n",
       "      <th>tipo_dato</th>\n",
       "      <th>num_valores_unicos</th>\n",
       "    </tr>\n",
       "  </thead>\n",
       "  <tbody>\n",
       "    <tr>\n",
       "      <th>Loyalty Number</th>\n",
       "      <td>0.0%</td>\n",
       "      <td>100.0%</td>\n",
       "      <td>int64</td>\n",
       "      <td>16737</td>\n",
       "    </tr>\n",
       "    <tr>\n",
       "      <th>Year</th>\n",
       "      <td>0.0%</td>\n",
       "      <td>100.0%</td>\n",
       "      <td>int64</td>\n",
       "      <td>2</td>\n",
       "    </tr>\n",
       "    <tr>\n",
       "      <th>Month</th>\n",
       "      <td>0.0%</td>\n",
       "      <td>100.0%</td>\n",
       "      <td>int64</td>\n",
       "      <td>12</td>\n",
       "    </tr>\n",
       "    <tr>\n",
       "      <th>Flights Booked</th>\n",
       "      <td>0.0%</td>\n",
       "      <td>100.0%</td>\n",
       "      <td>int64</td>\n",
       "      <td>40</td>\n",
       "    </tr>\n",
       "    <tr>\n",
       "      <th>Flights with Companions</th>\n",
       "      <td>0.0%</td>\n",
       "      <td>100.0%</td>\n",
       "      <td>int64</td>\n",
       "      <td>21</td>\n",
       "    </tr>\n",
       "  </tbody>\n",
       "</table>\n",
       "</div>"
      ],
      "text/plain": [
       "                        % nulos % no_nulos tipo_dato  num_valores_unicos\n",
       "Loyalty Number             0.0%     100.0%     int64               16737\n",
       "Year                       0.0%     100.0%     int64                   2\n",
       "Month                      0.0%     100.0%     int64                  12\n",
       "Flights Booked             0.0%     100.0%     int64                  40\n",
       "Flights with Companions    0.0%     100.0%     int64                  21"
      ]
     },
     "metadata": {},
     "output_type": "display_data"
    },
    {
     "name": "stdout",
     "output_type": "stream",
     "text": [
      "Principales estadísticos de las columnas categóricas:\n",
      "No existen variables categóricas\n",
      "Principales estadísticos de las columnas numéricas:\n"
     ]
    },
    {
     "data": {
      "text/html": [
       "<div>\n",
       "<style scoped>\n",
       "    .dataframe tbody tr th:only-of-type {\n",
       "        vertical-align: middle;\n",
       "    }\n",
       "\n",
       "    .dataframe tbody tr th {\n",
       "        vertical-align: top;\n",
       "    }\n",
       "\n",
       "    .dataframe thead th {\n",
       "        text-align: right;\n",
       "    }\n",
       "</style>\n",
       "<table border=\"1\" class=\"dataframe\">\n",
       "  <thead>\n",
       "    <tr style=\"text-align: right;\">\n",
       "      <th></th>\n",
       "      <th>count</th>\n",
       "      <th>mean</th>\n",
       "      <th>std</th>\n",
       "      <th>min</th>\n",
       "      <th>25%</th>\n",
       "      <th>50%</th>\n",
       "      <th>75%</th>\n",
       "      <th>max</th>\n",
       "    </tr>\n",
       "  </thead>\n",
       "  <tbody>\n",
       "    <tr>\n",
       "      <th>Loyalty Number</th>\n",
       "      <td>401688.0</td>\n",
       "      <td>549735.880445</td>\n",
       "      <td>258904.719886</td>\n",
       "      <td>100018.0</td>\n",
       "      <td>326603.00</td>\n",
       "      <td>550434.0</td>\n",
       "      <td>772019.00</td>\n",
       "      <td>999986.0</td>\n",
       "    </tr>\n",
       "    <tr>\n",
       "      <th>Year</th>\n",
       "      <td>401688.0</td>\n",
       "      <td>2017.500000</td>\n",
       "      <td>0.500001</td>\n",
       "      <td>2017.0</td>\n",
       "      <td>2017.00</td>\n",
       "      <td>2017.5</td>\n",
       "      <td>2018.00</td>\n",
       "      <td>2018.0</td>\n",
       "    </tr>\n",
       "    <tr>\n",
       "      <th>Month</th>\n",
       "      <td>401688.0</td>\n",
       "      <td>6.500000</td>\n",
       "      <td>3.452057</td>\n",
       "      <td>1.0</td>\n",
       "      <td>3.75</td>\n",
       "      <td>6.5</td>\n",
       "      <td>9.25</td>\n",
       "      <td>12.0</td>\n",
       "    </tr>\n",
       "    <tr>\n",
       "      <th>Flights Booked</th>\n",
       "      <td>401688.0</td>\n",
       "      <td>4.155374</td>\n",
       "      <td>5.269271</td>\n",
       "      <td>0.0</td>\n",
       "      <td>0.00</td>\n",
       "      <td>1.0</td>\n",
       "      <td>8.00</td>\n",
       "      <td>39.0</td>\n",
       "    </tr>\n",
       "    <tr>\n",
       "      <th>Flights with Companions</th>\n",
       "      <td>401688.0</td>\n",
       "      <td>1.041916</td>\n",
       "      <td>2.090835</td>\n",
       "      <td>0.0</td>\n",
       "      <td>0.00</td>\n",
       "      <td>0.0</td>\n",
       "      <td>1.00</td>\n",
       "      <td>20.0</td>\n",
       "    </tr>\n",
       "    <tr>\n",
       "      <th>Total Flights</th>\n",
       "      <td>401688.0</td>\n",
       "      <td>5.197290</td>\n",
       "      <td>6.576952</td>\n",
       "      <td>0.0</td>\n",
       "      <td>0.00</td>\n",
       "      <td>1.0</td>\n",
       "      <td>10.00</td>\n",
       "      <td>57.0</td>\n",
       "    </tr>\n",
       "    <tr>\n",
       "      <th>Distance</th>\n",
       "      <td>401688.0</td>\n",
       "      <td>1220.725451</td>\n",
       "      <td>1446.440549</td>\n",
       "      <td>0.0</td>\n",
       "      <td>0.00</td>\n",
       "      <td>524.0</td>\n",
       "      <td>2352.00</td>\n",
       "      <td>11244.0</td>\n",
       "    </tr>\n",
       "    <tr>\n",
       "      <th>Points Accumulated</th>\n",
       "      <td>401688.0</td>\n",
       "      <td>124.904743</td>\n",
       "      <td>147.982107</td>\n",
       "      <td>0.0</td>\n",
       "      <td>0.00</td>\n",
       "      <td>53.0</td>\n",
       "      <td>240.00</td>\n",
       "      <td>1216.5</td>\n",
       "    </tr>\n",
       "    <tr>\n",
       "      <th>Points Redeemed</th>\n",
       "      <td>401688.0</td>\n",
       "      <td>30.997660</td>\n",
       "      <td>126.104987</td>\n",
       "      <td>0.0</td>\n",
       "      <td>0.00</td>\n",
       "      <td>0.0</td>\n",
       "      <td>0.00</td>\n",
       "      <td>996.0</td>\n",
       "    </tr>\n",
       "    <tr>\n",
       "      <th>Dollar Cost Points Redeemed</th>\n",
       "      <td>401688.0</td>\n",
       "      <td>2.508848</td>\n",
       "      <td>10.200090</td>\n",
       "      <td>0.0</td>\n",
       "      <td>0.00</td>\n",
       "      <td>0.0</td>\n",
       "      <td>0.00</td>\n",
       "      <td>80.0</td>\n",
       "    </tr>\n",
       "  </tbody>\n",
       "</table>\n",
       "</div>"
      ],
      "text/plain": [
       "                                count           mean            std       min  \\\n",
       "Loyalty Number               401688.0  549735.880445  258904.719886  100018.0   \n",
       "Year                         401688.0    2017.500000       0.500001    2017.0   \n",
       "Month                        401688.0       6.500000       3.452057       1.0   \n",
       "Flights Booked               401688.0       4.155374       5.269271       0.0   \n",
       "Flights with Companions      401688.0       1.041916       2.090835       0.0   \n",
       "Total Flights                401688.0       5.197290       6.576952       0.0   \n",
       "Distance                     401688.0    1220.725451    1446.440549       0.0   \n",
       "Points Accumulated           401688.0     124.904743     147.982107       0.0   \n",
       "Points Redeemed              401688.0      30.997660     126.104987       0.0   \n",
       "Dollar Cost Points Redeemed  401688.0       2.508848      10.200090       0.0   \n",
       "\n",
       "                                   25%       50%        75%       max  \n",
       "Loyalty Number               326603.00  550434.0  772019.00  999986.0  \n",
       "Year                           2017.00    2017.5    2018.00    2018.0  \n",
       "Month                             3.75       6.5       9.25      12.0  \n",
       "Flights Booked                    0.00       1.0       8.00      39.0  \n",
       "Flights with Companions           0.00       0.0       1.00      20.0  \n",
       "Total Flights                     0.00       1.0      10.00      57.0  \n",
       "Distance                          0.00     524.0    2352.00   11244.0  \n",
       "Points Accumulated                0.00      53.0     240.00    1216.5  \n",
       "Points Redeemed                   0.00       0.0       0.00     996.0  \n",
       "Dollar Cost Points Redeemed       0.00       0.0       0.00      80.0  "
      ]
     },
     "metadata": {},
     "output_type": "display_data"
    }
   ],
   "source": [
    "df_EDA_activity = exploracion(df_activity)"
   ]
  },
  {
   "cell_type": "code",
   "execution_count": 39,
   "metadata": {},
   "outputs": [
    {
     "name": "stdout",
     "output_type": "stream",
     "text": [
      "El DataFrame tiene 16737 filas y 15 columnas. # type: ignore # type: ignore # type: ignore # type: ignore # type: ignore # type: ignore # type: ignore # type: ignore # type: ignore # type: ignore\n",
      "    Tiene 0 datos duplicados, lo que supone un porcentaje de 0.0% de los datos.\n",
      "\n",
      "    Hay 3 columnas con datos nulos, y son: \n",
      "    ['Salary', 'Cancellation Year', 'Cancellation Month']\n",
      "\n",
      "    y sin nulos hay 12 columnas y son: \n",
      "    ['Country', 'Province', 'City', 'Postal Code', 'Gender', 'Education', 'Marital Status', 'Loyalty Card', 'CLV', 'Enrollment Type', 'Enrollment Year', 'Enrollment Month']\n",
      "\n",
      "    A continuación tenemos un detalle sobre los datos nulos y los tipos y número de datos:\n"
     ]
    },
    {
     "data": {
      "text/html": [
       "<div>\n",
       "<style scoped>\n",
       "    .dataframe tbody tr th:only-of-type {\n",
       "        vertical-align: middle;\n",
       "    }\n",
       "\n",
       "    .dataframe tbody tr th {\n",
       "        vertical-align: top;\n",
       "    }\n",
       "\n",
       "    .dataframe thead th {\n",
       "        text-align: right;\n",
       "    }\n",
       "</style>\n",
       "<table border=\"1\" class=\"dataframe\">\n",
       "  <thead>\n",
       "    <tr style=\"text-align: right;\">\n",
       "      <th></th>\n",
       "      <th>% nulos</th>\n",
       "      <th>% no_nulos</th>\n",
       "      <th>tipo_dato</th>\n",
       "      <th>num_valores_unicos</th>\n",
       "    </tr>\n",
       "  </thead>\n",
       "  <tbody>\n",
       "    <tr>\n",
       "      <th>Country</th>\n",
       "      <td>0.0%</td>\n",
       "      <td>100.0%</td>\n",
       "      <td>object</td>\n",
       "      <td>1</td>\n",
       "    </tr>\n",
       "    <tr>\n",
       "      <th>Province</th>\n",
       "      <td>0.0%</td>\n",
       "      <td>100.0%</td>\n",
       "      <td>object</td>\n",
       "      <td>11</td>\n",
       "    </tr>\n",
       "    <tr>\n",
       "      <th>City</th>\n",
       "      <td>0.0%</td>\n",
       "      <td>100.0%</td>\n",
       "      <td>object</td>\n",
       "      <td>29</td>\n",
       "    </tr>\n",
       "    <tr>\n",
       "      <th>Postal Code</th>\n",
       "      <td>0.0%</td>\n",
       "      <td>100.0%</td>\n",
       "      <td>object</td>\n",
       "      <td>55</td>\n",
       "    </tr>\n",
       "    <tr>\n",
       "      <th>Gender</th>\n",
       "      <td>0.0%</td>\n",
       "      <td>100.0%</td>\n",
       "      <td>object</td>\n",
       "      <td>2</td>\n",
       "    </tr>\n",
       "  </tbody>\n",
       "</table>\n",
       "</div>"
      ],
      "text/plain": [
       "            % nulos % no_nulos tipo_dato  num_valores_unicos\n",
       "Country        0.0%     100.0%    object                   1\n",
       "Province       0.0%     100.0%    object                  11\n",
       "City           0.0%     100.0%    object                  29\n",
       "Postal Code    0.0%     100.0%    object                  55\n",
       "Gender         0.0%     100.0%    object                   2"
      ]
     },
     "metadata": {},
     "output_type": "display_data"
    },
    {
     "name": "stdout",
     "output_type": "stream",
     "text": [
      "Principales estadísticos de las columnas categóricas:\n"
     ]
    },
    {
     "data": {
      "text/html": [
       "<div>\n",
       "<style scoped>\n",
       "    .dataframe tbody tr th:only-of-type {\n",
       "        vertical-align: middle;\n",
       "    }\n",
       "\n",
       "    .dataframe tbody tr th {\n",
       "        vertical-align: top;\n",
       "    }\n",
       "\n",
       "    .dataframe thead th {\n",
       "        text-align: right;\n",
       "    }\n",
       "</style>\n",
       "<table border=\"1\" class=\"dataframe\">\n",
       "  <thead>\n",
       "    <tr style=\"text-align: right;\">\n",
       "      <th></th>\n",
       "      <th>count</th>\n",
       "      <th>unique</th>\n",
       "      <th>top</th>\n",
       "      <th>freq</th>\n",
       "    </tr>\n",
       "  </thead>\n",
       "  <tbody>\n",
       "    <tr>\n",
       "      <th>Country</th>\n",
       "      <td>16737</td>\n",
       "      <td>1</td>\n",
       "      <td>Canada</td>\n",
       "      <td>16737</td>\n",
       "    </tr>\n",
       "    <tr>\n",
       "      <th>Province</th>\n",
       "      <td>16737</td>\n",
       "      <td>11</td>\n",
       "      <td>Ontario</td>\n",
       "      <td>5404</td>\n",
       "    </tr>\n",
       "    <tr>\n",
       "      <th>City</th>\n",
       "      <td>16737</td>\n",
       "      <td>29</td>\n",
       "      <td>Toronto</td>\n",
       "      <td>3351</td>\n",
       "    </tr>\n",
       "    <tr>\n",
       "      <th>Postal Code</th>\n",
       "      <td>16737</td>\n",
       "      <td>55</td>\n",
       "      <td>V6E 3D9</td>\n",
       "      <td>911</td>\n",
       "    </tr>\n",
       "    <tr>\n",
       "      <th>Gender</th>\n",
       "      <td>16737</td>\n",
       "      <td>2</td>\n",
       "      <td>Female</td>\n",
       "      <td>8410</td>\n",
       "    </tr>\n",
       "    <tr>\n",
       "      <th>Education</th>\n",
       "      <td>16737</td>\n",
       "      <td>5</td>\n",
       "      <td>Bachelor</td>\n",
       "      <td>10475</td>\n",
       "    </tr>\n",
       "    <tr>\n",
       "      <th>Marital Status</th>\n",
       "      <td>16737</td>\n",
       "      <td>3</td>\n",
       "      <td>Married</td>\n",
       "      <td>9735</td>\n",
       "    </tr>\n",
       "    <tr>\n",
       "      <th>Loyalty Card</th>\n",
       "      <td>16737</td>\n",
       "      <td>3</td>\n",
       "      <td>Star</td>\n",
       "      <td>7637</td>\n",
       "    </tr>\n",
       "    <tr>\n",
       "      <th>Enrollment Type</th>\n",
       "      <td>16737</td>\n",
       "      <td>2</td>\n",
       "      <td>Standard</td>\n",
       "      <td>15766</td>\n",
       "    </tr>\n",
       "  </tbody>\n",
       "</table>\n",
       "</div>"
      ],
      "text/plain": [
       "                 count unique       top   freq\n",
       "Country          16737      1    Canada  16737\n",
       "Province         16737     11   Ontario   5404\n",
       "City             16737     29   Toronto   3351\n",
       "Postal Code      16737     55   V6E 3D9    911\n",
       "Gender           16737      2    Female   8410\n",
       "Education        16737      5  Bachelor  10475\n",
       "Marital Status   16737      3   Married   9735\n",
       "Loyalty Card     16737      3      Star   7637\n",
       "Enrollment Type  16737      2  Standard  15766"
      ]
     },
     "metadata": {},
     "output_type": "display_data"
    },
    {
     "name": "stdout",
     "output_type": "stream",
     "text": [
      "Principales estadísticos de las columnas numéricas:\n"
     ]
    },
    {
     "data": {
      "text/html": [
       "<div>\n",
       "<style scoped>\n",
       "    .dataframe tbody tr th:only-of-type {\n",
       "        vertical-align: middle;\n",
       "    }\n",
       "\n",
       "    .dataframe tbody tr th {\n",
       "        vertical-align: top;\n",
       "    }\n",
       "\n",
       "    .dataframe thead th {\n",
       "        text-align: right;\n",
       "    }\n",
       "</style>\n",
       "<table border=\"1\" class=\"dataframe\">\n",
       "  <thead>\n",
       "    <tr style=\"text-align: right;\">\n",
       "      <th></th>\n",
       "      <th>count</th>\n",
       "      <th>mean</th>\n",
       "      <th>std</th>\n",
       "      <th>min</th>\n",
       "      <th>25%</th>\n",
       "      <th>50%</th>\n",
       "      <th>75%</th>\n",
       "      <th>max</th>\n",
       "    </tr>\n",
       "  </thead>\n",
       "  <tbody>\n",
       "    <tr>\n",
       "      <th>Salary</th>\n",
       "      <td>12499.0</td>\n",
       "      <td>79245.609409</td>\n",
       "      <td>35008.297285</td>\n",
       "      <td>-58486.00</td>\n",
       "      <td>59246.50</td>\n",
       "      <td>73455.00</td>\n",
       "      <td>88517.50</td>\n",
       "      <td>407228.00</td>\n",
       "    </tr>\n",
       "    <tr>\n",
       "      <th>CLV</th>\n",
       "      <td>16737.0</td>\n",
       "      <td>7988.896536</td>\n",
       "      <td>6860.982280</td>\n",
       "      <td>1898.01</td>\n",
       "      <td>3980.84</td>\n",
       "      <td>5780.18</td>\n",
       "      <td>8940.58</td>\n",
       "      <td>83325.38</td>\n",
       "    </tr>\n",
       "    <tr>\n",
       "      <th>Enrollment Year</th>\n",
       "      <td>16737.0</td>\n",
       "      <td>2015.253211</td>\n",
       "      <td>1.979111</td>\n",
       "      <td>2012.00</td>\n",
       "      <td>2014.00</td>\n",
       "      <td>2015.00</td>\n",
       "      <td>2017.00</td>\n",
       "      <td>2018.00</td>\n",
       "    </tr>\n",
       "    <tr>\n",
       "      <th>Enrollment Month</th>\n",
       "      <td>16737.0</td>\n",
       "      <td>6.669116</td>\n",
       "      <td>3.398958</td>\n",
       "      <td>1.00</td>\n",
       "      <td>4.00</td>\n",
       "      <td>7.00</td>\n",
       "      <td>10.00</td>\n",
       "      <td>12.00</td>\n",
       "    </tr>\n",
       "    <tr>\n",
       "      <th>Cancellation Year</th>\n",
       "      <td>2067.0</td>\n",
       "      <td>2016.503145</td>\n",
       "      <td>1.380743</td>\n",
       "      <td>2013.00</td>\n",
       "      <td>2016.00</td>\n",
       "      <td>2017.00</td>\n",
       "      <td>2018.00</td>\n",
       "      <td>2018.00</td>\n",
       "    </tr>\n",
       "    <tr>\n",
       "      <th>Cancellation Month</th>\n",
       "      <td>2067.0</td>\n",
       "      <td>6.962748</td>\n",
       "      <td>3.455297</td>\n",
       "      <td>1.00</td>\n",
       "      <td>4.00</td>\n",
       "      <td>7.00</td>\n",
       "      <td>10.00</td>\n",
       "      <td>12.00</td>\n",
       "    </tr>\n",
       "  </tbody>\n",
       "</table>\n",
       "</div>"
      ],
      "text/plain": [
       "                      count          mean           std       min       25%  \\\n",
       "Salary              12499.0  79245.609409  35008.297285 -58486.00  59246.50   \n",
       "CLV                 16737.0   7988.896536   6860.982280   1898.01   3980.84   \n",
       "Enrollment Year     16737.0   2015.253211      1.979111   2012.00   2014.00   \n",
       "Enrollment Month    16737.0      6.669116      3.398958      1.00      4.00   \n",
       "Cancellation Year    2067.0   2016.503145      1.380743   2013.00   2016.00   \n",
       "Cancellation Month   2067.0      6.962748      3.455297      1.00      4.00   \n",
       "\n",
       "                         50%       75%        max  \n",
       "Salary              73455.00  88517.50  407228.00  \n",
       "CLV                  5780.18   8940.58   83325.38  \n",
       "Enrollment Year      2015.00   2017.00    2018.00  \n",
       "Enrollment Month        7.00     10.00      12.00  \n",
       "Cancellation Year    2017.00   2018.00    2018.00  \n",
       "Cancellation Month      7.00     10.00      12.00  "
      ]
     },
     "metadata": {},
     "output_type": "display_data"
    }
   ],
   "source": [
    "df_EDA_loyalty = exploracion(df_loyalty)"
   ]
  },
  {
   "cell_type": "markdown",
   "metadata": {},
   "source": [
    "### PASO 3:\n",
    "\n",
    "#### Vamos a unir nuestros dos dataframes: \n",
    "\n"
   ]
  },
  {
   "cell_type": "code",
   "execution_count": 40,
   "metadata": {},
   "outputs": [],
   "source": [
    "# Ahora queremos unir ambos datasets. \n",
    "# Decidimos que la PK sea el \"Loyalty Number\" y será el \"puente\" para unirse ambos datasets. \n",
    "# Escogemos el tipo de unión de INNER JOIN.\n",
    "#¿Por qué escogemos el INNER JOIN?\n",
    "# - Devuelve únicamente las filas que SÍ tienen coincidencias en la columna de unión (en este caso, Loyalty Number) en AMBOS df.\n",
    "# - Así podremos ver los clientes que coinciden en Loyalty Number, por lo tanto que existen en los dos datasets. \n",
    "\n",
    "df_final = pd.merge(df_activity, df_loyalty, on=\"Loyalty Number\", how=\"inner\")\n"
   ]
  },
  {
   "cell_type": "code",
   "execution_count": 41,
   "metadata": {},
   "outputs": [
    {
     "data": {
      "text/html": [
       "<div>\n",
       "<style scoped>\n",
       "    .dataframe tbody tr th:only-of-type {\n",
       "        vertical-align: middle;\n",
       "    }\n",
       "\n",
       "    .dataframe tbody tr th {\n",
       "        vertical-align: top;\n",
       "    }\n",
       "\n",
       "    .dataframe thead th {\n",
       "        text-align: right;\n",
       "    }\n",
       "</style>\n",
       "<table border=\"1\" class=\"dataframe\">\n",
       "  <thead>\n",
       "    <tr style=\"text-align: right;\">\n",
       "      <th></th>\n",
       "      <th>Loyalty Number</th>\n",
       "      <th>Year</th>\n",
       "      <th>Month</th>\n",
       "      <th>Flights Booked</th>\n",
       "      <th>Flights with Companions</th>\n",
       "      <th>Total Flights</th>\n",
       "      <th>Distance</th>\n",
       "      <th>Points Accumulated</th>\n",
       "      <th>Points Redeemed</th>\n",
       "      <th>Dollar Cost Points Redeemed</th>\n",
       "      <th>Country</th>\n",
       "      <th>Province</th>\n",
       "      <th>City</th>\n",
       "      <th>Postal Code</th>\n",
       "      <th>Gender</th>\n",
       "      <th>Education</th>\n",
       "      <th>Salary</th>\n",
       "      <th>Marital Status</th>\n",
       "      <th>Loyalty Card</th>\n",
       "      <th>CLV</th>\n",
       "      <th>Enrollment Type</th>\n",
       "      <th>Enrollment Year</th>\n",
       "      <th>Enrollment Month</th>\n",
       "      <th>Cancellation Year</th>\n",
       "      <th>Cancellation Month</th>\n",
       "    </tr>\n",
       "  </thead>\n",
       "  <tbody>\n",
       "    <tr>\n",
       "      <th>0</th>\n",
       "      <td>100018</td>\n",
       "      <td>2017</td>\n",
       "      <td>1</td>\n",
       "      <td>3</td>\n",
       "      <td>0</td>\n",
       "      <td>3</td>\n",
       "      <td>1521</td>\n",
       "      <td>152.0</td>\n",
       "      <td>0</td>\n",
       "      <td>0</td>\n",
       "      <td>Canada</td>\n",
       "      <td>Alberta</td>\n",
       "      <td>Edmonton</td>\n",
       "      <td>T9G 1W3</td>\n",
       "      <td>Female</td>\n",
       "      <td>Bachelor</td>\n",
       "      <td>92552.0</td>\n",
       "      <td>Married</td>\n",
       "      <td>Aurora</td>\n",
       "      <td>7919.2</td>\n",
       "      <td>Standard</td>\n",
       "      <td>2016</td>\n",
       "      <td>8</td>\n",
       "      <td>NaN</td>\n",
       "      <td>NaN</td>\n",
       "    </tr>\n",
       "    <tr>\n",
       "      <th>1</th>\n",
       "      <td>100018</td>\n",
       "      <td>2017</td>\n",
       "      <td>2</td>\n",
       "      <td>2</td>\n",
       "      <td>2</td>\n",
       "      <td>4</td>\n",
       "      <td>1320</td>\n",
       "      <td>132.0</td>\n",
       "      <td>0</td>\n",
       "      <td>0</td>\n",
       "      <td>Canada</td>\n",
       "      <td>Alberta</td>\n",
       "      <td>Edmonton</td>\n",
       "      <td>T9G 1W3</td>\n",
       "      <td>Female</td>\n",
       "      <td>Bachelor</td>\n",
       "      <td>92552.0</td>\n",
       "      <td>Married</td>\n",
       "      <td>Aurora</td>\n",
       "      <td>7919.2</td>\n",
       "      <td>Standard</td>\n",
       "      <td>2016</td>\n",
       "      <td>8</td>\n",
       "      <td>NaN</td>\n",
       "      <td>NaN</td>\n",
       "    </tr>\n",
       "    <tr>\n",
       "      <th>2</th>\n",
       "      <td>100018</td>\n",
       "      <td>2017</td>\n",
       "      <td>3</td>\n",
       "      <td>14</td>\n",
       "      <td>3</td>\n",
       "      <td>17</td>\n",
       "      <td>2533</td>\n",
       "      <td>253.0</td>\n",
       "      <td>438</td>\n",
       "      <td>36</td>\n",
       "      <td>Canada</td>\n",
       "      <td>Alberta</td>\n",
       "      <td>Edmonton</td>\n",
       "      <td>T9G 1W3</td>\n",
       "      <td>Female</td>\n",
       "      <td>Bachelor</td>\n",
       "      <td>92552.0</td>\n",
       "      <td>Married</td>\n",
       "      <td>Aurora</td>\n",
       "      <td>7919.2</td>\n",
       "      <td>Standard</td>\n",
       "      <td>2016</td>\n",
       "      <td>8</td>\n",
       "      <td>NaN</td>\n",
       "      <td>NaN</td>\n",
       "    </tr>\n",
       "    <tr>\n",
       "      <th>3</th>\n",
       "      <td>100018</td>\n",
       "      <td>2017</td>\n",
       "      <td>4</td>\n",
       "      <td>4</td>\n",
       "      <td>0</td>\n",
       "      <td>4</td>\n",
       "      <td>924</td>\n",
       "      <td>92.0</td>\n",
       "      <td>0</td>\n",
       "      <td>0</td>\n",
       "      <td>Canada</td>\n",
       "      <td>Alberta</td>\n",
       "      <td>Edmonton</td>\n",
       "      <td>T9G 1W3</td>\n",
       "      <td>Female</td>\n",
       "      <td>Bachelor</td>\n",
       "      <td>92552.0</td>\n",
       "      <td>Married</td>\n",
       "      <td>Aurora</td>\n",
       "      <td>7919.2</td>\n",
       "      <td>Standard</td>\n",
       "      <td>2016</td>\n",
       "      <td>8</td>\n",
       "      <td>NaN</td>\n",
       "      <td>NaN</td>\n",
       "    </tr>\n",
       "    <tr>\n",
       "      <th>4</th>\n",
       "      <td>100018</td>\n",
       "      <td>2017</td>\n",
       "      <td>5</td>\n",
       "      <td>0</td>\n",
       "      <td>0</td>\n",
       "      <td>0</td>\n",
       "      <td>0</td>\n",
       "      <td>0.0</td>\n",
       "      <td>0</td>\n",
       "      <td>0</td>\n",
       "      <td>Canada</td>\n",
       "      <td>Alberta</td>\n",
       "      <td>Edmonton</td>\n",
       "      <td>T9G 1W3</td>\n",
       "      <td>Female</td>\n",
       "      <td>Bachelor</td>\n",
       "      <td>92552.0</td>\n",
       "      <td>Married</td>\n",
       "      <td>Aurora</td>\n",
       "      <td>7919.2</td>\n",
       "      <td>Standard</td>\n",
       "      <td>2016</td>\n",
       "      <td>8</td>\n",
       "      <td>NaN</td>\n",
       "      <td>NaN</td>\n",
       "    </tr>\n",
       "  </tbody>\n",
       "</table>\n",
       "</div>"
      ],
      "text/plain": [
       "   Loyalty Number  Year  Month  Flights Booked  Flights with Companions  \\\n",
       "0          100018  2017      1               3                        0   \n",
       "1          100018  2017      2               2                        2   \n",
       "2          100018  2017      3              14                        3   \n",
       "3          100018  2017      4               4                        0   \n",
       "4          100018  2017      5               0                        0   \n",
       "\n",
       "   Total Flights  Distance  Points Accumulated  Points Redeemed  \\\n",
       "0              3      1521               152.0                0   \n",
       "1              4      1320               132.0                0   \n",
       "2             17      2533               253.0              438   \n",
       "3              4       924                92.0                0   \n",
       "4              0         0                 0.0                0   \n",
       "\n",
       "   Dollar Cost Points Redeemed Country Province      City Postal Code  Gender  \\\n",
       "0                            0  Canada  Alberta  Edmonton     T9G 1W3  Female   \n",
       "1                            0  Canada  Alberta  Edmonton     T9G 1W3  Female   \n",
       "2                           36  Canada  Alberta  Edmonton     T9G 1W3  Female   \n",
       "3                            0  Canada  Alberta  Edmonton     T9G 1W3  Female   \n",
       "4                            0  Canada  Alberta  Edmonton     T9G 1W3  Female   \n",
       "\n",
       "  Education   Salary Marital Status Loyalty Card     CLV Enrollment Type  \\\n",
       "0  Bachelor  92552.0        Married       Aurora  7919.2        Standard   \n",
       "1  Bachelor  92552.0        Married       Aurora  7919.2        Standard   \n",
       "2  Bachelor  92552.0        Married       Aurora  7919.2        Standard   \n",
       "3  Bachelor  92552.0        Married       Aurora  7919.2        Standard   \n",
       "4  Bachelor  92552.0        Married       Aurora  7919.2        Standard   \n",
       "\n",
       "   Enrollment Year  Enrollment Month  Cancellation Year  Cancellation Month  \n",
       "0             2016                 8                NaN                 NaN  \n",
       "1             2016                 8                NaN                 NaN  \n",
       "2             2016                 8                NaN                 NaN  \n",
       "3             2016                 8                NaN                 NaN  \n",
       "4             2016                 8                NaN                 NaN  "
      ]
     },
     "execution_count": 41,
     "metadata": {},
     "output_type": "execute_result"
    }
   ],
   "source": [
    "# Podmeos obersvar que ahora es solo un dataset (a partir de country) que se ha unido en uno. \n",
    "\n",
    "df_final.head()"
   ]
  },
  {
   "cell_type": "code",
   "execution_count": 42,
   "metadata": {},
   "outputs": [
    {
     "name": "stdout",
     "output_type": "stream",
     "text": [
      "<class 'pandas.core.frame.DataFrame'>\n",
      "RangeIndex: 401688 entries, 0 to 401687\n",
      "Data columns (total 25 columns):\n",
      " #   Column                       Non-Null Count   Dtype  \n",
      "---  ------                       --------------   -----  \n",
      " 0   Loyalty Number               401688 non-null  int64  \n",
      " 1   Year                         401688 non-null  int64  \n",
      " 2   Month                        401688 non-null  int64  \n",
      " 3   Flights Booked               401688 non-null  int64  \n",
      " 4   Flights with Companions      401688 non-null  int64  \n",
      " 5   Total Flights                401688 non-null  int64  \n",
      " 6   Distance                     401688 non-null  int64  \n",
      " 7   Points Accumulated           401688 non-null  float64\n",
      " 8   Points Redeemed              401688 non-null  int64  \n",
      " 9   Dollar Cost Points Redeemed  401688 non-null  int64  \n",
      " 10  Country                      401688 non-null  object \n",
      " 11  Province                     401688 non-null  object \n",
      " 12  City                         401688 non-null  object \n",
      " 13  Postal Code                  401688 non-null  object \n",
      " 14  Gender                       401688 non-null  object \n",
      " 15  Education                    401688 non-null  object \n",
      " 16  Salary                       299976 non-null  float64\n",
      " 17  Marital Status               401688 non-null  object \n",
      " 18  Loyalty Card                 401688 non-null  object \n",
      " 19  CLV                          401688 non-null  float64\n",
      " 20  Enrollment Type              401688 non-null  object \n",
      " 21  Enrollment Year              401688 non-null  int64  \n",
      " 22  Enrollment Month             401688 non-null  int64  \n",
      " 23  Cancellation Year            49608 non-null   float64\n",
      " 24  Cancellation Month           49608 non-null   float64\n",
      "dtypes: float64(5), int64(11), object(9)\n",
      "memory usage: 76.6+ MB\n"
     ]
    }
   ],
   "source": [
    "#También revisamos si la estructura del dataset se ha creado bien (y vemos el total de columnas).\n",
    "\n",
    "df_final.info()\n"
   ]
  },
  {
   "cell_type": "code",
   "execution_count": 43,
   "metadata": {},
   "outputs": [
    {
     "data": {
      "text/plain": [
       "Loyalty Number                      0\n",
       "Year                                0\n",
       "Month                               0\n",
       "Flights Booked                      0\n",
       "Flights with Companions             0\n",
       "Total Flights                       0\n",
       "Distance                            0\n",
       "Points Accumulated                  0\n",
       "Points Redeemed                     0\n",
       "Dollar Cost Points Redeemed         0\n",
       "Country                             0\n",
       "Province                            0\n",
       "City                                0\n",
       "Postal Code                         0\n",
       "Gender                              0\n",
       "Education                           0\n",
       "Salary                         101712\n",
       "Marital Status                      0\n",
       "Loyalty Card                        0\n",
       "CLV                                 0\n",
       "Enrollment Type                     0\n",
       "Enrollment Year                     0\n",
       "Enrollment Month                    0\n",
       "Cancellation Year              352080\n",
       "Cancellation Month             352080\n",
       "dtype: int64"
      ]
     },
     "execution_count": 43,
     "metadata": {},
     "output_type": "execute_result"
    }
   ],
   "source": [
    "#Volvemos a comprobar cuántos nulos y en qué columnas están, para poder llevar a cabo la limpieza. \n",
    "\n",
    "df_final.isnull().sum()"
   ]
  },
  {
   "cell_type": "code",
   "execution_count": 44,
   "metadata": {},
   "outputs": [
    {
     "data": {
      "text/plain": [
       "np.int64(0)"
      ]
     },
     "execution_count": 44,
     "metadata": {},
     "output_type": "execute_result"
    }
   ],
   "source": [
    "df_final.duplicated().sum()"
   ]
  },
  {
   "cell_type": "markdown",
   "metadata": {},
   "source": [
    "### PASO 4: \n",
    "\n",
    "#### Limpiamos los datos tras haber analizado nuestros dataframes: "
   ]
  },
  {
   "cell_type": "code",
   "execution_count": 45,
   "metadata": {},
   "outputs": [],
   "source": [
    "#Primero vamos a limpiar todas las librerías restantes: \n",
    "\n",
    "import pandas as pd\n",
    "import numpy as np\n",
    "from scipy.stats import shapiro, levene\n",
    "from scipy.stats import ttest_ind\n",
    "from scipy.stats import mannwhitneyu\n",
    "from scipy.stats import chi2_contingency\n",
    "import matplotlib.pyplot as plt\n",
    "import seaborn as sns\n",
    "import scipy.stats as stats"
   ]
  },
  {
   "cell_type": "code",
   "execution_count": 46,
   "metadata": {},
   "outputs": [],
   "source": [
    "#Ya hemos gestionado los nulos durante el EDA, ahora vamos a gestionar el resto que hemos ido viendo. "
   ]
  },
  {
   "cell_type": "code",
   "execution_count": 47,
   "metadata": {},
   "outputs": [],
   "source": [
    "\n",
    "#df_activity.astype.float[\"Points Accumulated\"]\n",
    "\n",
    "#df_final[columna] = df_final[\"Points Accumulated\"].apply(pd.to_numeric) #otra función de pandas que lo que hace es convetri la columna en numérica/int. "
   ]
  },
  {
   "cell_type": "code",
   "execution_count": 48,
   "metadata": {},
   "outputs": [],
   "source": [
    "#Podemos hacer una lambda para convertir [\"Points Accumulated\"] en int: \n",
    "\n",
    "df_final[\"Points Accumulated\"] = df_final[\"Points Accumulated\"].apply(lambda x: int(x) if isinstance(x, float) else x)"
   ]
  },
  {
   "cell_type": "code",
   "execution_count": 49,
   "metadata": {},
   "outputs": [
    {
     "data": {
      "text/plain": [
       "Loyalty Number                   int64\n",
       "Year                             int64\n",
       "Month                            int64\n",
       "Flights Booked                   int64\n",
       "Flights with Companions          int64\n",
       "Total Flights                    int64\n",
       "Distance                         int64\n",
       "Points Accumulated               int64\n",
       "Points Redeemed                  int64\n",
       "Dollar Cost Points Redeemed      int64\n",
       "Country                         object\n",
       "Province                        object\n",
       "City                            object\n",
       "Postal Code                     object\n",
       "Gender                          object\n",
       "Education                       object\n",
       "Salary                         float64\n",
       "Marital Status                  object\n",
       "Loyalty Card                    object\n",
       "CLV                            float64\n",
       "Enrollment Type                 object\n",
       "Enrollment Year                  int64\n",
       "Enrollment Month                 int64\n",
       "Cancellation Year              float64\n",
       "Cancellation Month             float64\n",
       "dtype: object"
      ]
     },
     "execution_count": 49,
     "metadata": {},
     "output_type": "execute_result"
    }
   ],
   "source": [
    "#Comprobamos que se hayan convertido: \n",
    "df_final.dtypes"
   ]
  },
  {
   "cell_type": "code",
   "execution_count": 50,
   "metadata": {},
   "outputs": [
    {
     "name": "stdout",
     "output_type": "stream",
     "text": [
      "Valores negativos en 'Salary' antes de limpiar: 480\n"
     ]
    }
   ],
   "source": [
    "#Limpiamos los valores negativos (20) de la columna de [\"Salary\"]:\n",
    "\n",
    "#Primero vamos a ver, después de la agrupación, cuántos valores negativos hay en la columna [\"Salary\"]\n",
    "\n",
    "valores_negativos = (df_final[\"Salary\"] < 0).sum()\n",
    "print(f\"Valores negativos en '{\"Salary\"}' antes de limpiar: {valores_negativos}\")"
   ]
  },
  {
   "cell_type": "code",
   "execution_count": 51,
   "metadata": {},
   "outputs": [
    {
     "name": "stdout",
     "output_type": "stream",
     "text": [
      "El porcentaje que representan los negativos es: 0.000048%\n"
     ]
    }
   ],
   "source": [
    "#Ahora vemos que ha augmentado el número de valores negativos, quizás deberíamos cambiarles el (-) negativo y convertilo en (+). \n",
    "#O quizás deberíamos eliminarlos, vamos a ver porporcionalmente, cuánto representa este \"480\". \n",
    "\n",
    "porcentaje_2 = (valores_negativos / salary_total) * 100\n",
    "print(f\"El porcentaje que representan los negativos es: {porcentaje_2:.6f}%\")"
   ]
  },
  {
   "cell_type": "code",
   "execution_count": 52,
   "metadata": {},
   "outputs": [],
   "source": [
    "#Confirmamos que sigue siendo ínfimo. Vamos a eliminar estos valores con una función. "
   ]
  },
  {
   "cell_type": "code",
   "execution_count": 53,
   "metadata": {},
   "outputs": [],
   "source": [
    "def limpiar_negativos(df, col=\"Salary\"):\n",
    "    \"\"\"\n",
    "    Limpia los valores negativos de una columna especificada.\n",
    "\n",
    "    Parámetros:  \n",
    "    - df (pd.DataFrame): DataFrame a procesar.\n",
    "    - col (str): Nombre de la columna donde eliminar valores negativos.\n",
    "\n",
    "    Retorna: \n",
    "    - pd.DataFrame: DataFrame sin filas con valores negativos en la columna especificada.\n",
    "    \"\"\"\n",
    "    # Eliminar filas con valores negativos\n",
    "    df_limpio = df[df[col] >= 0]\n",
    "    \n",
    "    return df_limpio\n"
   ]
  },
  {
   "cell_type": "code",
   "execution_count": 176,
   "metadata": {},
   "outputs": [
    {
     "name": "stdout",
     "output_type": "stream",
     "text": [
      "No hay valores negativos en 'Salary'.\n"
     ]
    }
   ],
   "source": [
    "#Llamamos a la función para limpiar la columna \"Salary\" en df_final:\n",
    "\n",
    "df_final = limpiar_negativos(df_final, col=\"Salary\")\n",
    "\n",
    "#Verificamos si no hay valores negativos: \n",
    "\n",
    "#Contamos cuántos valores negativos quedan en la columna \"Salary\"\n",
    "valores_negativos = (df_final[\"Salary\"] < 0).sum()\n",
    "\n",
    "# Imprimir el resultado\n",
    "if valores_negativos == 0:\n",
    "    print(\"No hay valores negativos en 'Salary'.\")\n",
    "else:\n",
    "    print(f\"Hay {valores_negativos} valores negativos en 'Salary'.\")\n"
   ]
  },
  {
   "cell_type": "code",
   "execution_count": 54,
   "metadata": {},
   "outputs": [
    {
     "data": {
      "text/plain": [
       "Education\n",
       "Bachelor                 72451.061575\n",
       "College                           NaN\n",
       "Doctor                  178608.897820\n",
       "High School or Below     61071.718670\n",
       "Master                  103757.848425\n",
       "Name: Salary, dtype: float64"
      ]
     },
     "execution_count": 54,
     "metadata": {},
     "output_type": "execute_result"
    }
   ],
   "source": [
    "df_final.groupby(\"Education\")[\"Salary\"].mean()\n",
    "\n",
    "#Nos damos cuenta de que \"College\"representa todos los valores nulos de la columna [\"Salary\"]."
   ]
  },
  {
   "cell_type": "code",
   "execution_count": 55,
   "metadata": {},
   "outputs": [
    {
     "data": {
      "text/plain": [
       "Education\n",
       "Bachelor                251400\n",
       "College                 101712\n",
       "Doctor                   17616\n",
       "High School or Below     18768\n",
       "Master                   12192\n",
       "Name: Loyalty Number, dtype: int64"
      ]
     },
     "execution_count": 55,
     "metadata": {},
     "output_type": "execute_result"
    }
   ],
   "source": [
    "df_final.groupby(\"Education\")[\"Loyalty Number\"].count()\n",
    "\n",
    "#Ya que aquí vemos que SÍ existen clientes de college. "
   ]
  },
  {
   "cell_type": "code",
   "execution_count": 56,
   "metadata": {},
   "outputs": [
    {
     "name": "stdout",
     "output_type": "stream",
     "text": [
      "['Bachelor' 'College' 'Master' 'High School or Below' 'Doctor']\n"
     ]
    }
   ],
   "source": [
    "print(df_final[\"Education\"].unique())\n"
   ]
  },
  {
   "cell_type": "code",
   "execution_count": 57,
   "metadata": {},
   "outputs": [
    {
     "data": {
      "text/plain": [
       "np.float64(72451.061575179)"
      ]
     },
     "execution_count": 57,
     "metadata": {},
     "output_type": "execute_result"
    }
   ],
   "source": [
    "# Hacemos la media de bachelor para rellenar los datos de collage: \n",
    "media_bachelor = df_final[df_final[\"Education\"] == 'Bachelor'][\"Salary\"].mean()\n",
    "media_bachelor"
   ]
  },
  {
   "cell_type": "code",
   "execution_count": 58,
   "metadata": {},
   "outputs": [],
   "source": [
    "df_final[\"Salary\"]= df_final[\"Salary\"].fillna(media_bachelor)"
   ]
  },
  {
   "cell_type": "code",
   "execution_count": 59,
   "metadata": {},
   "outputs": [
    {
     "data": {
      "text/plain": [
       "Education\n",
       "Bachelor                 72451.061575\n",
       "College                  72451.061575\n",
       "Doctor                  178608.897820\n",
       "High School or Below     61071.718670\n",
       "Master                  103757.848425\n",
       "Name: Salary, dtype: float64"
      ]
     },
     "execution_count": 59,
     "metadata": {},
     "output_type": "execute_result"
    }
   ],
   "source": [
    "df_final.groupby(\"Education\")[\"Salary\"].mean()"
   ]
  },
  {
   "cell_type": "code",
   "execution_count": 60,
   "metadata": {},
   "outputs": [
    {
     "name": "stdout",
     "output_type": "stream",
     "text": [
      "['Bachelor' 'College' 'Master' 'High School or Below' 'Doctor']\n"
     ]
    }
   ],
   "source": [
    "print(df_final[\"Education\"].unique())\n"
   ]
  },
  {
   "cell_type": "code",
   "execution_count": 61,
   "metadata": {},
   "outputs": [
    {
     "data": {
      "text/plain": [
       "np.int64(0)"
      ]
     },
     "execution_count": 61,
     "metadata": {},
     "output_type": "execute_result"
    }
   ],
   "source": [
    "#Comprobamos que no haya valores nulos en nuestro df por la columna de [\"Salary\"]\n",
    "\n",
    "df_final[\"Salary\"].isnull().sum()"
   ]
  },
  {
   "cell_type": "code",
   "execution_count": 62,
   "metadata": {},
   "outputs": [
    {
     "name": "stdout",
     "output_type": "stream",
     "text": [
      "  Cancellation Year Cancellation Month\n",
      "0            Active             Active\n",
      "1            Active             Active\n",
      "2            Active             Active\n",
      "3            Active             Active\n",
      "4            Active             Active\n"
     ]
    },
    {
     "name": "stderr",
     "output_type": "stream",
     "text": [
      "/var/folders/h2/b5tj8zpx5kl5p_zzc6j3h1z40000gp/T/ipykernel_70695/2119304005.py:7: FutureWarning: DataFrame.applymap has been deprecated. Use DataFrame.map instead.\n",
      "  ].applymap(lambda x: \"Active\" if pd.isnull(x) else \"Non Active\")\n"
     ]
    }
   ],
   "source": [
    "#Transformamos: si es nulo -> \"Active\", si no es nulo -> \"Non Active\".\n",
    "#como esta es un cálculo no recurrente y específico para esta situación, vamos a llevar a cabo una lambda. \n",
    "#Usamos applymap para poder cambiar en las dos columnas a la vez. (y map porque se suele usar en lambdas más que replace). \n",
    "\n",
    "df_final[[\"Cancellation Year\", \"Cancellation Month\"]] = df_final[\n",
    "    [\"Cancellation Year\", \"Cancellation Month\"]\n",
    "].applymap(lambda x: \"Active\" if pd.isnull(x) else \"Non Active\")\n",
    "\n",
    "#Verificamos los resultados:\n",
    "print(df_final[[\"Cancellation Year\", \"Cancellation Month\"]].head())"
   ]
  },
  {
   "cell_type": "code",
   "execution_count": 63,
   "metadata": {},
   "outputs": [
    {
     "data": {
      "text/html": [
       "<div>\n",
       "<style scoped>\n",
       "    .dataframe tbody tr th:only-of-type {\n",
       "        vertical-align: middle;\n",
       "    }\n",
       "\n",
       "    .dataframe tbody tr th {\n",
       "        vertical-align: top;\n",
       "    }\n",
       "\n",
       "    .dataframe thead th {\n",
       "        text-align: right;\n",
       "    }\n",
       "</style>\n",
       "<table border=\"1\" class=\"dataframe\">\n",
       "  <thead>\n",
       "    <tr style=\"text-align: right;\">\n",
       "      <th></th>\n",
       "      <th>Loyalty Number</th>\n",
       "      <th>Year</th>\n",
       "      <th>Month</th>\n",
       "      <th>Flights Booked</th>\n",
       "      <th>Flights with Companions</th>\n",
       "      <th>Total Flights</th>\n",
       "      <th>Distance</th>\n",
       "      <th>Points Accumulated</th>\n",
       "      <th>Points Redeemed</th>\n",
       "      <th>Dollar Cost Points Redeemed</th>\n",
       "      <th>Country</th>\n",
       "      <th>Province</th>\n",
       "      <th>City</th>\n",
       "      <th>Postal Code</th>\n",
       "      <th>Gender</th>\n",
       "      <th>Education</th>\n",
       "      <th>Salary</th>\n",
       "      <th>Marital Status</th>\n",
       "      <th>Loyalty Card</th>\n",
       "      <th>CLV</th>\n",
       "      <th>Enrollment Type</th>\n",
       "      <th>Enrollment Year</th>\n",
       "      <th>Enrollment Month</th>\n",
       "      <th>Year Status</th>\n",
       "      <th>Month Status</th>\n",
       "    </tr>\n",
       "  </thead>\n",
       "  <tbody>\n",
       "    <tr>\n",
       "      <th>0</th>\n",
       "      <td>100018</td>\n",
       "      <td>2017</td>\n",
       "      <td>1</td>\n",
       "      <td>3</td>\n",
       "      <td>0</td>\n",
       "      <td>3</td>\n",
       "      <td>1521</td>\n",
       "      <td>152</td>\n",
       "      <td>0</td>\n",
       "      <td>0</td>\n",
       "      <td>Canada</td>\n",
       "      <td>Alberta</td>\n",
       "      <td>Edmonton</td>\n",
       "      <td>T9G 1W3</td>\n",
       "      <td>Female</td>\n",
       "      <td>Bachelor</td>\n",
       "      <td>92552.0</td>\n",
       "      <td>Married</td>\n",
       "      <td>Aurora</td>\n",
       "      <td>7919.2</td>\n",
       "      <td>Standard</td>\n",
       "      <td>2016</td>\n",
       "      <td>8</td>\n",
       "      <td>Active</td>\n",
       "      <td>Active</td>\n",
       "    </tr>\n",
       "    <tr>\n",
       "      <th>1</th>\n",
       "      <td>100018</td>\n",
       "      <td>2017</td>\n",
       "      <td>2</td>\n",
       "      <td>2</td>\n",
       "      <td>2</td>\n",
       "      <td>4</td>\n",
       "      <td>1320</td>\n",
       "      <td>132</td>\n",
       "      <td>0</td>\n",
       "      <td>0</td>\n",
       "      <td>Canada</td>\n",
       "      <td>Alberta</td>\n",
       "      <td>Edmonton</td>\n",
       "      <td>T9G 1W3</td>\n",
       "      <td>Female</td>\n",
       "      <td>Bachelor</td>\n",
       "      <td>92552.0</td>\n",
       "      <td>Married</td>\n",
       "      <td>Aurora</td>\n",
       "      <td>7919.2</td>\n",
       "      <td>Standard</td>\n",
       "      <td>2016</td>\n",
       "      <td>8</td>\n",
       "      <td>Active</td>\n",
       "      <td>Active</td>\n",
       "    </tr>\n",
       "    <tr>\n",
       "      <th>2</th>\n",
       "      <td>100018</td>\n",
       "      <td>2017</td>\n",
       "      <td>3</td>\n",
       "      <td>14</td>\n",
       "      <td>3</td>\n",
       "      <td>17</td>\n",
       "      <td>2533</td>\n",
       "      <td>253</td>\n",
       "      <td>438</td>\n",
       "      <td>36</td>\n",
       "      <td>Canada</td>\n",
       "      <td>Alberta</td>\n",
       "      <td>Edmonton</td>\n",
       "      <td>T9G 1W3</td>\n",
       "      <td>Female</td>\n",
       "      <td>Bachelor</td>\n",
       "      <td>92552.0</td>\n",
       "      <td>Married</td>\n",
       "      <td>Aurora</td>\n",
       "      <td>7919.2</td>\n",
       "      <td>Standard</td>\n",
       "      <td>2016</td>\n",
       "      <td>8</td>\n",
       "      <td>Active</td>\n",
       "      <td>Active</td>\n",
       "    </tr>\n",
       "    <tr>\n",
       "      <th>3</th>\n",
       "      <td>100018</td>\n",
       "      <td>2017</td>\n",
       "      <td>4</td>\n",
       "      <td>4</td>\n",
       "      <td>0</td>\n",
       "      <td>4</td>\n",
       "      <td>924</td>\n",
       "      <td>92</td>\n",
       "      <td>0</td>\n",
       "      <td>0</td>\n",
       "      <td>Canada</td>\n",
       "      <td>Alberta</td>\n",
       "      <td>Edmonton</td>\n",
       "      <td>T9G 1W3</td>\n",
       "      <td>Female</td>\n",
       "      <td>Bachelor</td>\n",
       "      <td>92552.0</td>\n",
       "      <td>Married</td>\n",
       "      <td>Aurora</td>\n",
       "      <td>7919.2</td>\n",
       "      <td>Standard</td>\n",
       "      <td>2016</td>\n",
       "      <td>8</td>\n",
       "      <td>Active</td>\n",
       "      <td>Active</td>\n",
       "    </tr>\n",
       "    <tr>\n",
       "      <th>4</th>\n",
       "      <td>100018</td>\n",
       "      <td>2017</td>\n",
       "      <td>5</td>\n",
       "      <td>0</td>\n",
       "      <td>0</td>\n",
       "      <td>0</td>\n",
       "      <td>0</td>\n",
       "      <td>0</td>\n",
       "      <td>0</td>\n",
       "      <td>0</td>\n",
       "      <td>Canada</td>\n",
       "      <td>Alberta</td>\n",
       "      <td>Edmonton</td>\n",
       "      <td>T9G 1W3</td>\n",
       "      <td>Female</td>\n",
       "      <td>Bachelor</td>\n",
       "      <td>92552.0</td>\n",
       "      <td>Married</td>\n",
       "      <td>Aurora</td>\n",
       "      <td>7919.2</td>\n",
       "      <td>Standard</td>\n",
       "      <td>2016</td>\n",
       "      <td>8</td>\n",
       "      <td>Active</td>\n",
       "      <td>Active</td>\n",
       "    </tr>\n",
       "  </tbody>\n",
       "</table>\n",
       "</div>"
      ],
      "text/plain": [
       "   Loyalty Number  Year  Month  Flights Booked  Flights with Companions  \\\n",
       "0          100018  2017      1               3                        0   \n",
       "1          100018  2017      2               2                        2   \n",
       "2          100018  2017      3              14                        3   \n",
       "3          100018  2017      4               4                        0   \n",
       "4          100018  2017      5               0                        0   \n",
       "\n",
       "   Total Flights  Distance  Points Accumulated  Points Redeemed  \\\n",
       "0              3      1521                 152                0   \n",
       "1              4      1320                 132                0   \n",
       "2             17      2533                 253              438   \n",
       "3              4       924                  92                0   \n",
       "4              0         0                   0                0   \n",
       "\n",
       "   Dollar Cost Points Redeemed Country Province      City Postal Code  Gender  \\\n",
       "0                            0  Canada  Alberta  Edmonton     T9G 1W3  Female   \n",
       "1                            0  Canada  Alberta  Edmonton     T9G 1W3  Female   \n",
       "2                           36  Canada  Alberta  Edmonton     T9G 1W3  Female   \n",
       "3                            0  Canada  Alberta  Edmonton     T9G 1W3  Female   \n",
       "4                            0  Canada  Alberta  Edmonton     T9G 1W3  Female   \n",
       "\n",
       "  Education   Salary Marital Status Loyalty Card     CLV Enrollment Type  \\\n",
       "0  Bachelor  92552.0        Married       Aurora  7919.2        Standard   \n",
       "1  Bachelor  92552.0        Married       Aurora  7919.2        Standard   \n",
       "2  Bachelor  92552.0        Married       Aurora  7919.2        Standard   \n",
       "3  Bachelor  92552.0        Married       Aurora  7919.2        Standard   \n",
       "4  Bachelor  92552.0        Married       Aurora  7919.2        Standard   \n",
       "\n",
       "   Enrollment Year  Enrollment Month Year Status Month Status  \n",
       "0             2016                 8      Active       Active  \n",
       "1             2016                 8      Active       Active  \n",
       "2             2016                 8      Active       Active  \n",
       "3             2016                 8      Active       Active  \n",
       "4             2016                 8      Active       Active  "
      ]
     },
     "execution_count": 63,
     "metadata": {},
     "output_type": "execute_result"
    }
   ],
   "source": [
    "#Ahora, no tiene mucho sentido dejar los nombres de estas columnas así. \n",
    "#Vamos a cambiarlos por: \"Year Status\" y \"Month Status\" con el método rename. \n",
    "\n",
    "#Renombramos las columnas\n",
    "df_final = df_final.rename(columns={\n",
    "    \"Cancellation Year\": \"Year Status\",\n",
    "    \"Cancellation Month\": \"Month Status\"\n",
    "})\n",
    "\n",
    "# Verificar los resultados\n",
    "df_final.head()"
   ]
  },
  {
   "cell_type": "code",
   "execution_count": 64,
   "metadata": {},
   "outputs": [],
   "source": [
    "#Comprobamos de nuevo, que no hayan nulos ni duplicados y... ¡Así es!"
   ]
  },
  {
   "cell_type": "code",
   "execution_count": 65,
   "metadata": {},
   "outputs": [
    {
     "data": {
      "text/plain": [
       "Loyalty Number                 0\n",
       "Year                           0\n",
       "Month                          0\n",
       "Flights Booked                 0\n",
       "Flights with Companions        0\n",
       "Total Flights                  0\n",
       "Distance                       0\n",
       "Points Accumulated             0\n",
       "Points Redeemed                0\n",
       "Dollar Cost Points Redeemed    0\n",
       "Country                        0\n",
       "Province                       0\n",
       "City                           0\n",
       "Postal Code                    0\n",
       "Gender                         0\n",
       "Education                      0\n",
       "Salary                         0\n",
       "Marital Status                 0\n",
       "Loyalty Card                   0\n",
       "CLV                            0\n",
       "Enrollment Type                0\n",
       "Enrollment Year                0\n",
       "Enrollment Month               0\n",
       "Year Status                    0\n",
       "Month Status                   0\n",
       "dtype: int64"
      ]
     },
     "execution_count": 65,
     "metadata": {},
     "output_type": "execute_result"
    }
   ],
   "source": [
    "df_final.isnull().sum()"
   ]
  },
  {
   "cell_type": "code",
   "execution_count": 66,
   "metadata": {},
   "outputs": [
    {
     "data": {
      "text/plain": [
       "np.int64(0)"
      ]
     },
     "execution_count": 66,
     "metadata": {},
     "output_type": "execute_result"
    }
   ],
   "source": [
    "df_final.duplicated().sum()"
   ]
  },
  {
   "cell_type": "code",
   "execution_count": 67,
   "metadata": {},
   "outputs": [],
   "source": [
    "#Por último, vamos a guardar nuestro csv limpio como un csv nuevo y lo guardaremos en la carpeta de data. "
   ]
  },
  {
   "cell_type": "code",
   "execution_count": 68,
   "metadata": {},
   "outputs": [],
   "source": [
    "df_final.to_csv(\"../data/dataframe_limpio.csv\", index=False)"
   ]
  },
  {
   "cell_type": "markdown",
   "metadata": {},
   "source": []
  },
  {
   "cell_type": "markdown",
   "metadata": {},
   "source": [
    "# FASE 2: \n",
    "\n",
    "## VISUALIZACIÓN:\n"
   ]
  },
  {
   "cell_type": "code",
   "execution_count": 69,
   "metadata": {},
   "outputs": [
    {
     "name": "stderr",
     "output_type": "stream",
     "text": [
      "/var/folders/h2/b5tj8zpx5kl5p_zzc6j3h1z40000gp/T/ipykernel_70695/2458635589.py:14: FutureWarning: \n",
      "\n",
      "Passing `palette` without assigning `hue` is deprecated and will be removed in v0.14.0. Assign the `x` variable to `hue` and set `legend=False` for the same effect.\n",
      "\n",
      "  sns.barplot(data=vuelos_mes, x='Month', y='Flights Booked', palette='viridis')\n"
     ]
    },
    {
     "data": {
      "image/png": "[encoded data removed]",
      "text/plain": [
       "<Figure size 640x480 with 1 Axes>"
      ]
     },
     "metadata": {},
     "output_type": "display_data"
    }
   ],
   "source": [
    "##¿Cómo se distribuye la cantidad de vuelos reservados por mes durante el año?\n",
    "\n",
    "##Usaremos un gráfico de barras con la librería seaborn para visualizar los vuelos reservados agrupados por mes.\n",
    "##El gráfico de barras es muy útil cuando queremos ver todos los meses del año (12 categorías) y compararlos entre sí porque cada categoría es única. \n",
    "##Queremos ver la suma total de cada mes y así poderlas comparar. \n",
    "\n",
    "import seaborn as sns\n",
    "import matplotlib.pyplot as plt\n",
    "\n",
    "#Agrupamos los vuelos reservados por mes:\n",
    "vuelos_mes = df_final.groupby('Month')['Flights Booked'].sum().reset_index()\n",
    "\n",
    "#Creamos el gráfico de barras:\n",
    "sns.barplot(data=vuelos_mes, x='Month', y='Flights Booked', palette='viridis')\n",
    "plt.title('Cantidad de vuelos reservados por mes')\n",
    "plt.xlabel('Mes')\n",
    "plt.ylabel('Vuelos reservados')\n",
    "plt.xticks(range(0, 12), ['Ene', 'Feb', 'Mar', 'Abr', 'May', 'Jun', 'Jul', 'Ago', 'Sep', 'Oct', 'Nov', 'Dic']) #Personalizamos los nombres de los meses.\n",
    "plt.show()\n"
   ]
  },
  {
   "cell_type": "markdown",
   "metadata": {},
   "source": [
    "### CONCLUSIÓN DEL GRÁFICO: \n",
    "\n",
    "#### Aquí vemos claramente la estacuinalidad de viajar, donde julio (y verano en general) es cuando más se viaja juntamente con diciembre (vuelve a casa por Navidad, como el turrón). "
   ]
  },
  {
   "cell_type": "code",
   "execution_count": 70,
   "metadata": {},
   "outputs": [
    {
     "data": {
      "image/png": "[encoded data removed]",
      "text/plain": [
       "<Figure size 640x480 with 1 Axes>"
      ]
     },
     "metadata": {},
     "output_type": "display_data"
    }
   ],
   "source": [
    "##2. ¿Existe una relación entre la distancia de los vuelos y los puntos acumulados por los clientes?\n",
    "\n",
    "#Lo que queremos hacer aquí es comparar dos variables y ver su correlación. \n",
    "#Para ello, vamos a usar un gráfico de dispersión con sns.scatterplot.\n",
    "\n",
    "#Creamos el gráfico de dispersión:\n",
    "\n",
    "sns.scatterplot(data=df_final, x='Distance', y='Points Accumulated', alpha=0.5, color='blue') #usamos el alpha que es como la \"opcacidad\" o \"transparencia\" para poder ver quée hay detrás y si hay acumulación de puntos. \n",
    "plt.title('Relación entre distancia y puntos acumulados')\n",
    "plt.xlabel('Distancia (millas)')\n",
    "plt.ylabel('Puntos acumulados')\n",
    "plt.show()"
   ]
  },
  {
   "cell_type": "markdown",
   "metadata": {},
   "source": [
    "### CONCLUSIÓN DEL GRÁFICO: \n",
    "\n",
    "#### Cuanto mayor es la distancia recorrida en el vuelo, mayor es el número de puntos acumulados.\n",
    "#### La acumlación de puntos crece proporcionalmente a la distancia. \n",
    "#### Esto tiene sentido con el funcionamiento de los programas de lealtad de las aerolineas que \"premian\" la distancia. \n",
    "#### También podemos observar que los puntos se van dispersando a mayor millas porque no hay tantas personas que vuelen tan lejos. "
   ]
  },
  {
   "cell_type": "code",
   "execution_count": 71,
   "metadata": {},
   "outputs": [
    {
     "name": "stderr",
     "output_type": "stream",
     "text": [
      "/var/folders/h2/b5tj8zpx5kl5p_zzc6j3h1z40000gp/T/ipykernel_70695/2307731521.py:9: FutureWarning: \n",
      "\n",
      "Passing `palette` without assigning `hue` is deprecated and will be removed in v0.14.0. Assign the `y` variable to `hue` and set `legend=False` for the same effect.\n",
      "\n",
      "  sns.countplot(data=df_final, y='Province', order=df_final['Province'].value_counts().index, palette='coolwarm')\n"
     ]
    },
    {
     "data": {
      "image/png": "[encoded data removed]",
      "text/plain": [
       "<Figure size 640x480 with 1 Axes>"
      ]
     },
     "metadata": {},
     "output_type": "display_data"
    }
   ],
   "source": [
    "## 3. ¿Cuál es la distribución de los clientes por provincia o estado?\n",
    "\n",
    "#Lo que queremos ver aquí es el número de valores únicos de clientes por provincia (ya que todos son canadienses).\n",
    "#Por eso usaremos un countplot, que es un gráfica de barras que nos contará cada cliente. \n",
    "#Lo bueno del countplot es que cuenta automáticamente y no lo tendremos que hacer manualmente. \n",
    "#A pesar de esto, vamos a hacer un value_counts() para visualizarlo en orden de más a menos. \n",
    "\n",
    "#Creamos el gráfico de barras: \n",
    "sns.countplot(data=df_final, y='Province', order=df_final['Province'].value_counts().index, palette='coolwarm')\n",
    "plt.title('Distribución de clientes por provincia')\n",
    "plt.xlabel('Cantidad de clientes')\n",
    "plt.ylabel('Provincia')\n",
    "plt.show()\n"
   ]
  },
  {
   "cell_type": "markdown",
   "metadata": {},
   "source": [
    "### CONCLUSIÓN DEL GRÁFICO: \n",
    "\n",
    "#### Ontario es la provincia con la mayor cantidad de clientes, superando significativamente a las demás.\n",
    "#### Esto puede ser debido a una población mayor, a un mayor nivel adquisitivo o a que es un hub de aerolineas. \n",
    "#### Le sigue British Columbia y Quebec con una gran diferencia respecto al resto de provincias. "
   ]
  },
  {
   "cell_type": "code",
   "execution_count": 72,
   "metadata": {},
   "outputs": [
    {
     "name": "stderr",
     "output_type": "stream",
     "text": [
      "/var/folders/h2/b5tj8zpx5kl5p_zzc6j3h1z40000gp/T/ipykernel_70695/3892821001.py:10: FutureWarning: \n",
      "\n",
      "Passing `palette` without assigning `hue` is deprecated and will be removed in v0.14.0. Assign the `y` variable to `hue` and set `legend=False` for the same effect.\n",
      "\n",
      "  sns.barplot(data=media_salario_educación, x='Salary', y='Education', palette='mako')\n"
     ]
    },
    {
     "data": {
      "image/png": "[encoded data removed]",
      "text/plain": [
       "<Figure size 640x480 with 1 Axes>"
      ]
     },
     "metadata": {},
     "output_type": "display_data"
    }
   ],
   "source": [
    "## 4. ¿Cómo se compara el salario promedio entre los diferentes niveles educativos de los clientes?\n",
    "\n",
    "##Un gráfico de barras que muestra el salario promedio (Salary) por nivel educativo (Education).\n",
    "\n",
    "# Agrupar los datos por nivel educativo y calcular el salario promedio, al igual que hemos hecho en la primera gráfica: \n",
    "\n",
    "media_salario_educación= df_final.groupby('Education')['Salary'].mean().reset_index()\n",
    "\n",
    "# Crear un gráfico de barras\n",
    "sns.barplot(data=media_salario_educación, x='Salary', y='Education', palette='mako')\n",
    "plt.title('Salario promedio por nivel educativo')\n",
    "plt.xlabel('Salario promedio')\n",
    "plt.ylabel('Nivel educativo')\n",
    "plt.show()\n"
   ]
  },
  {
   "cell_type": "markdown",
   "metadata": {},
   "source": [
    "### CONCLUSIÓN DEL GRÁFICO: \n",
    "\n",
    "#### El salario medio es directamente proporcional al grado de educación que tienen los clientes. \n",
    "#### Bachelor y College contienen el mismo salario medio ya que hemos imputado esos nulos de college a la media de Bachelor. \n",
    "#### Si vives en Canadá y eres doctor, ¡estás montando en el dólar!"
   ]
  },
  {
   "cell_type": "code",
   "execution_count": 73,
   "metadata": {},
   "outputs": [
    {
     "data": {
      "image/png": "[encoded data removed]",
      "text/plain": [
       "<Figure size 640x480 with 1 Axes>"
      ]
     },
     "metadata": {},
     "output_type": "display_data"
    }
   ],
   "source": [
    "## 5. ¿Cuál es la proporción de clientes con diferentes tipos de tarjetas de fidelidad?\n",
    "#Aquí lo que queremos mostrar son PROPORCIONES con porcentajes, por eso, el gráfico más indicado es el pie. \n",
    "# Cuando hay pocas categorías como es en este caso (3) es más visual usar este gráfico. \n",
    "\n",
    "#Primero de todo, vamos a calcular con value_counts cuántos clientes/tarjetas hay, para cada categoría.  \n",
    "\n",
    "num_tarjetas = df_final['Loyalty Card'].value_counts()\n",
    "\n",
    "#Luego creamos un gráfico circular que nos hará directamente los porcentajes de estos valores: \n",
    "\n",
    "num_tarjetas.plot(kind='pie', autopct='%1.1f%%', startangle=90, colormap='Set3')\n",
    "plt.title('Proporción de clientes por tipo de tarjeta')\n",
    "plt.ylabel('')  #Eliminamos la etiqueta del eje Y.\n",
    "plt.show()"
   ]
  },
  {
   "cell_type": "markdown",
   "metadata": {},
   "source": [
    "### CONCLUSIÓN DEL GRÁFICO: \n",
    "\n",
    "#### Star representa la mayor parte de los clientes, con un 44.2%. Esto sugiere que esta tarjeta puede ser la más popular o la más ofrecida por la compañía.\n",
    "#### La diferencia entre Star (44.2%) y Nova (34.7%) no es tan grande, pero ambas categorías juntas abarcan casi el 80% de los clientes.\n",
    "### Aurora debe ser la tarjeta de fidelización más \"premium\" ya que solo unos pocos la tienen. Quizás corresponda a aquellos con más millas y más viajes. "
   ]
  },
  {
   "cell_type": "code",
   "execution_count": 74,
   "metadata": {},
   "outputs": [
    {
     "data": {
      "image/png": "[encoded data removed]",
      "text/plain": [
       "<Figure size 640x480 with 1 Axes>"
      ]
     },
     "metadata": {},
     "output_type": "display_data"
    }
   ],
   "source": [
    "## 6. ¿Cómo se distribuyen los clientes según su estado civil y género?\n",
    "\n",
    "#Aquí estamos correlacionando dos variables, por lo tanto debemos usar un gráfico que nos ayuda a hacer esta comparación. \n",
    "#En este caso, volvemos a usar un counplot que nos dará esté recuento de los valores agrupados por Gender y Marital Status.\n",
    "\n",
    "#Así que creamos un gráfico de barras agrupadas:\n",
    "\n",
    "sns.countplot(data=df_final, x='Marital Status', hue='Gender', palette='husl')\n",
    "plt.title('Distribución de clientes según estado Civil y género')\n",
    "plt.xlabel('Estado civil')\n",
    "plt.ylabel('Cantidad de clientes')\n",
    "plt.legend(title='Género')\n",
    "plt.show()"
   ]
  },
  {
   "cell_type": "markdown",
   "metadata": {},
   "source": [
    "### CONCLUSIÓN DEL GRÁFICO: \n",
    "\n",
    "#### No hay diferencias significativas en la distribución de género dentro de cada categoría de estado civil.\n",
    "#### La mayoría de los clientes están (¿felizmente?)casados, seguidos de solteros y finalmente divorciados.\n",
    "### Hay un equilibrio de género entre todas las categorías. "
   ]
  },
  {
   "cell_type": "markdown",
   "metadata": {},
   "source": [
    "# FASE 3: \n",
    "\n",
    "## Evaluación de diferencias en reservas de vuelo por nivel educativo: \n",
    "\n",
    "        Preparación de datos. \n",
    "        Análisis descriptivo. \n",
    "        Prueba estadística. \n",
    "\n",
    "## Pasos a seguir:\n",
    "\n",
    "        Evaluaremos si los datos son normales (test de normalidad).\n",
    "        Evaluaremos la homogeneidad de varianzas.\n",
    "        Dependiendo de los resultados:\n",
    "        Usaremos T-Test si los datos son normales y tienen varianzas homogéneas.\n",
    "        Usaremos Mann-Whitney U Test si los datos no son normales o no tienen varianzas homogéneas."
   ]
  },
  {
   "cell_type": "code",
   "execution_count": 100,
   "metadata": {},
   "outputs": [
    {
     "name": "stdout",
     "output_type": "stream",
     "text": [
      "   Flights Booked Education\n",
      "0               3  Bachelor\n",
      "1               2  Bachelor\n",
      "2              14  Bachelor\n",
      "3               4  Bachelor\n",
      "4               0  Bachelor\n",
      "   Flights Booked Education\n",
      "0               3  Bachelor\n",
      "1               2  Bachelor\n",
      "2              14  Bachelor\n",
      "3               4  Bachelor\n",
      "4               0  Bachelor\n"
     ]
    }
   ],
   "source": [
    "#Primero vamos a preprar los datos y a filtrarlos de tal forma que \n",
    "# crearemos una variable solo con las dos columnas que nos interesan. \n",
    "\n",
    "# Filtramos el conjunto de datos para incluir únicamente las columnas 'Flights Booked' y 'Education'\n",
    "datos_filtrados = df_final[['Flights Booked', 'Education']]\n",
    "\n",
    "# Verificar que los datos estén correctamente filtrados\n",
    "print(datos_filtrados.head()) \n",
    "print(datos_filtrados .head())\n"
   ]
  },
  {
   "cell_type": "code",
   "execution_count": 104,
   "metadata": {},
   "outputs": [
    {
     "name": "stdout",
     "output_type": "stream",
     "text": [
      "                          mean       std   count\n",
      "Education                                       \n",
      "Bachelor              4.129368  5.257359  251400\n",
      "College               4.192209  5.287492  101712\n",
      "Doctor                4.202770  5.305066   17616\n",
      "High School or Below  4.208919  5.296142   18768\n",
      "Master                4.233432  5.266140   12192\n"
     ]
    }
   ],
   "source": [
    "#Agrupamos los datos por nivel educativo y calculamos las estadísticas descriptivas:\n",
    "estadisticas_descriptivas = datos_filtrados.groupby('Education')['Flights Booked'].agg(['mean','std', 'count'])\n",
    "print(estadisticas_descriptivas)\n"
   ]
  },
  {
   "cell_type": "code",
   "execution_count": null,
   "metadata": {},
   "outputs": [],
   "source": [
    "#Empezamos nuestra prueba estadística y relizamos dos posibles hipótesis: \n",
    "\n",
    "#H0 (Nula): No hay diferencias significativas en el número de vuelos reservados entre los diferentes niveles educativos.\n",
    "#H1 (Alternativa): Hay al menos una diferencia significativa en el número de vuelos reservados entre los niveles educativos."
   ]
  },
  {
   "cell_type": "code",
   "execution_count": 105,
   "metadata": {},
   "outputs": [
    {
     "data": {
      "text/html": [
       "<div>\n",
       "<style scoped>\n",
       "    .dataframe tbody tr th:only-of-type {\n",
       "        vertical-align: middle;\n",
       "    }\n",
       "\n",
       "    .dataframe tbody tr th {\n",
       "        vertical-align: top;\n",
       "    }\n",
       "\n",
       "    .dataframe thead th {\n",
       "        text-align: right;\n",
       "    }\n",
       "</style>\n",
       "<table border=\"1\" class=\"dataframe\">\n",
       "  <thead>\n",
       "    <tr style=\"text-align: right;\">\n",
       "      <th>Education</th>\n",
       "      <th>Bachelor</th>\n",
       "      <th>College</th>\n",
       "      <th>Doctor</th>\n",
       "      <th>High School or Below</th>\n",
       "      <th>Master</th>\n",
       "    </tr>\n",
       "    <tr>\n",
       "      <th>Flights Booked</th>\n",
       "      <th></th>\n",
       "      <th></th>\n",
       "      <th></th>\n",
       "      <th></th>\n",
       "      <th></th>\n",
       "    </tr>\n",
       "  </thead>\n",
       "  <tbody>\n",
       "    <tr>\n",
       "      <th>0</th>\n",
       "      <td>122712</td>\n",
       "      <td>49184</td>\n",
       "      <td>8483</td>\n",
       "      <td>8999</td>\n",
       "      <td>5799</td>\n",
       "    </tr>\n",
       "    <tr>\n",
       "      <th>1</th>\n",
       "      <td>7871</td>\n",
       "      <td>3086</td>\n",
       "      <td>574</td>\n",
       "      <td>624</td>\n",
       "      <td>383</td>\n",
       "    </tr>\n",
       "    <tr>\n",
       "      <th>2</th>\n",
       "      <td>8333</td>\n",
       "      <td>3458</td>\n",
       "      <td>578</td>\n",
       "      <td>706</td>\n",
       "      <td>399</td>\n",
       "    </tr>\n",
       "    <tr>\n",
       "      <th>3</th>\n",
       "      <td>11322</td>\n",
       "      <td>4557</td>\n",
       "      <td>805</td>\n",
       "      <td>776</td>\n",
       "      <td>556</td>\n",
       "    </tr>\n",
       "    <tr>\n",
       "      <th>4</th>\n",
       "      <td>7962</td>\n",
       "      <td>3175</td>\n",
       "      <td>586</td>\n",
       "      <td>568</td>\n",
       "      <td>407</td>\n",
       "    </tr>\n",
       "  </tbody>\n",
       "</table>\n",
       "</div>"
      ],
      "text/plain": [
       "Education       Bachelor  College  Doctor  High School or Below  Master\n",
       "Flights Booked                                                         \n",
       "0                 122712    49184    8483                  8999    5799\n",
       "1                   7871     3086     574                   624     383\n",
       "2                   8333     3458     578                   706     399\n",
       "3                  11322     4557     805                   776     556\n",
       "4                   7962     3175     586                   568     407"
      ]
     },
     "execution_count": 105,
     "metadata": {},
     "output_type": "execute_result"
    }
   ],
   "source": [
    "#El primero paso que vamos a llevar a cabo es la definición del problema. \n",
    "#vamos a hacer una tabla de contingencia para ver cómo se presentan los datos. \n",
    "#Aquí tenemos un problema con nuestra tabla porque una columna tiene variables numéricas y otra categóricas. \n",
    "#No tiene mucho sentido hacer un crosstab. \n",
    "\n",
    "pd.crosstab(df_final[\"Flights Booked\"], df_final[\"Education\"]).head()"
   ]
  },
  {
   "cell_type": "code",
   "execution_count": 106,
   "metadata": {},
   "outputs": [
    {
     "name": "stdout",
     "output_type": "stream",
     "text": [
      "Education       Bachelor  College  Doctor  High School or Below  Master\n",
      "Flights Binned                                                         \n",
      "[0, 5)            158200    63460   11026                 11673    7544\n",
      "[5, 10)            44547    18130    3118                  3390    2242\n",
      "[10, 15)           35482    14593    2504                  2671    1757\n",
      "[15, 20)           11947     5026     877                   931     601\n",
      "[20, 25)            1152      470      82                    96      42\n",
      "[25, 30)              42       23       7                     4       5\n"
     ]
    }
   ],
   "source": [
    "#Lo que podemos hacer es dividir \"Flights Booked\" en intervalos para hacerla categórica\n",
    "df_final['Flights Binned'] = pd.cut(df_final['Flights Booked'], bins=[0, 5, 10, 15, 20, 25, 30], right=False)\n",
    "\n",
    "# Crear una tabla cruzada para ver la frecuencia\n",
    "crosstab_result = pd.crosstab(df_final['Flights Binned'], df_final['Education'])\n",
    "print(crosstab_result)\n"
   ]
  },
  {
   "cell_type": "code",
   "execution_count": 108,
   "metadata": {},
   "outputs": [
    {
     "data": {
      "image/png": "[encoded data removed]",
      "text/plain": [
       "<Figure size 640x480 with 1 Axes>"
      ]
     },
     "metadata": {},
     "output_type": "display_data"
    }
   ],
   "source": [
    "#Con esta tabla de contigencia podemos llegar a la conclusión que NO se trata de proporciones. \n",
    "#Ahora sabemos que se trata de medias (variable continua).\n",
    "\n",
    "#vamos a hacer una visualización para echar un vistazo rápido a los datos. \n",
    "\n",
    "# Histograma agrupado por nivel educativo\n",
    "sns.histplot(data=datos_filtrados, x='Flights Booked', hue='Education', kde=True, multiple='stack')\n",
    "plt.title('Distribución de vuelos por nivel educativo')\n",
    "plt.xlabel('Flights Booked')\n",
    "plt.ylabel('Frecuencia')\n",
    "plt.show()\n"
   ]
  },
  {
   "cell_type": "code",
   "execution_count": 116,
   "metadata": {},
   "outputs": [
    {
     "name": "stdout",
     "output_type": "stream",
     "text": [
      "IC al 95% para 'Bachelor': (4.11, 4.15)\n",
      "IC al 95% para 'College': (4.16, 4.22)\n",
      "IC al 95% para 'Master': (4.14, 4.33)\n",
      "IC al 95% para 'High School or Below': (4.13, 4.28)\n",
      "IC al 95% para 'Doctor': (4.12, 4.28)\n"
     ]
    }
   ],
   "source": [
    "#También vamos a hacer un intervalo de confianza para ver la media del número \n",
    "#de vuelos reservados por cada nivel de educación para explorar y entender la dispersión. \n",
    "from scipy.stats import norm\n",
    "import numpy as np\n",
    "\n",
    "# Nivel de confianza\n",
    "confianza = 0.95\n",
    "z = norm.ppf(1 - (1 - confianza) / 2)  # Valor crítico Z\n",
    "\n",
    "# Calcular intervalos de confianza por nivel educativo\n",
    "for group in datos_filtrados['Education'].unique():\n",
    "    datos = datos_filtrados.loc[datos_filtrados['Education'] == group, 'Flights Booked']\n",
    "    n = len(datos)\n",
    "    media = np.mean(datos)\n",
    "    desviacion = np.std(datos, ddof=1)\n",
    "    margen_error = z * (desviacion / np.sqrt(n))\n",
    "    print(f\"IC al 95% para '{group}': ({media - margen_error:.2f}, {media + margen_error:.2f})\")"
   ]
  },
  {
   "cell_type": "code",
   "execution_count": 88,
   "metadata": {},
   "outputs": [],
   "source": [
    "#Tras ver el histograma, no parecen datos muy \"normales\" pero vamos a hacer el test de normalidad. \n",
    "#Y el IC se mueve por valores similares en todos los casos, así que tampoco podemos extraer grandes conclusiones. \n",
    "\n",
    "#Función que testea la normalidad de los datos:\n",
    "def normalidad_dos_columnas(dataframe, columna1, columna2):\n",
    "    \"\"\"\n",
    "    Evalúa la normalidad de dos columnas de datos de un DataFrame utilizando la prueba de Shapiro-Wilk.\n",
    "    \"\"\"\n",
    "    for columna in [columna1, columna2]:\n",
    "        if not pd.api.types.is_numeric_dtype(dataframe[columna]):\n",
    "            print(f\"La columna {columna} no es numérica y no puede evaluarse para normalidad.\")\n",
    "            continue\n",
    "\n",
    "        stat, p_value = shapiro(dataframe[columna])\n",
    "        if p_value > 0.05:\n",
    "            print(f\"Para la columna {columna}, los datos siguen una distribución normal.\")\n",
    "        else:\n",
    "            print(f\"Para la columna {columna}, los datos no siguen una distribución normal.\")"
   ]
  },
  {
   "cell_type": "code",
   "execution_count": 89,
   "metadata": {},
   "outputs": [
    {
     "name": "stdout",
     "output_type": "stream",
     "text": [
      "Para la columna Flights Booked, los datos no siguen una distribución normal.\n",
      "La columna Education no es numérica y no puede evaluarse para normalidad.\n"
     ]
    },
    {
     "name": "stderr",
     "output_type": "stream",
     "text": [
      "/Library/Frameworks/Python.framework/Versions/3.12/lib/python3.12/site-packages/scipy/stats/_axis_nan_policy.py:573: UserWarning: scipy.stats.shapiro: For N > 5000, computed p-value may not be accurate. Current N is 401688.\n",
      "  res = hypotest_fun_out(*samples, **kwds)\n"
     ]
    }
   ],
   "source": [
    "#Vamos a llamar a la función: \n",
    "\n",
    "normalidad_dos_columnas(df_final, 'Flights Booked', \"Education\")\n"
   ]
  },
  {
   "cell_type": "code",
   "execution_count": null,
   "metadata": {},
   "outputs": [],
   "source": [
    "#Tan solo evaluamos la columna numérica \"Fights Booked\" y \n",
    "#llegamos a la conclusión que no siguen una distribución normal. "
   ]
  },
  {
   "cell_type": "code",
   "execution_count": 120,
   "metadata": {},
   "outputs": [
    {
     "name": "stdout",
     "output_type": "stream",
     "text": [
      "Las medianas entre los dos grupos combinados son significativamente diferentes (p-valor = 0.0210).\n",
      "U-Statistic: 5500688619.0\n"
     ]
    }
   ],
   "source": [
    "#Al no seguir una distribución normal, pasamos a hacer el test de Mann Whitney.\n",
    "#Este test solo permite comparar a dos grupos así que los hemos dividido por aquellos que tienen más sentido. \n",
    "\n",
    "from scipy.stats import mannwhitneyu\n",
    "\n",
    "# Dividir en dos grupos por nivel educativo\n",
    "grupo_1 = [\"High School or Below\", \"College\", \"Bachelor\"]  # Menor nivel educativo\n",
    "grupo_2 = [\"Master\", \"Doctor\"]  # Mayor nivel educativo\n",
    "\n",
    "# Filtrar los datos según los grupos combinados\n",
    "datos_grupo_1 = datos_filtrados[datos_filtrados['Education'].isin(grupo_1)]['Flights Booked']\n",
    "datos_grupo_2 = datos_filtrados[datos_filtrados['Education'].isin(grupo_2)]['Flights Booked']\n",
    "\n",
    "# Realizar el test Mann-Whitney U\n",
    "u_stat, p_value = mannwhitneyu(datos_grupo_1, datos_grupo_2, alternative='two-sided')\n",
    "\n",
    "# Mostrar resultados\n",
    "if p_value < 0.05:\n",
    "    print(f\"Las medianas entre los dos grupos combinados son significativamente diferentes (p-valor = {p_value:.4f}).\")\n",
    "else:\n",
    "    print(f\"No hay diferencias significativas entre las medianas de los dos grupos combinados (p-valor = {p_value:.4f}).\")\n",
    "\n",
    "print(f\"U-Statistic: {u_stat}\")"
   ]
  },
  {
   "cell_type": "markdown",
   "metadata": {},
   "source": [
    "\n",
    "    El resultado sugiere que el grupo con mayor nivel educativo (Master y Doctor) tiene una tendencia en sus vuelos reservados que es significativamente diferente al grupo con menor nivel educativo (High School or Below, College, Bachelor).\n",
    "\n",
    "    Dado a que p < 0.05 podemos confirmar que se cumple la Hipótesis alternativa,(H1) que indica que Las medianas del número de vuelos reservados entre los dos grupos son significativamente diferentes.\n",
    "\n",
    "    Esto indica que las distribuciones de vuelos entre el grupo con mayor educación (Master y Doctor) y el grupo con menor educación (High School or Below, College, Bachelor) no son iguales, y existe una diferencia estadísticamente significativa en sus comportamientos.\n",
    "\n"
   ]
  }
 ],
 "metadata": {
  "kernelspec": {
   "display_name": "Python 3",
   "language": "python",
   "name": "python3"
  },
  "language_info": {
   "codemirror_mode": {
    "name": "ipython",
    "version": 3
   },
   "file_extension": ".py",
   "mimetype": "text/x-python",
   "name": "python",
   "nbconvert_exporter": "python",
   "pygments_lexer": "ipython3",
   "version": "3.12.6"
  }
 },
 "nbformat": 4,
 "nbformat_minor": 2
}
